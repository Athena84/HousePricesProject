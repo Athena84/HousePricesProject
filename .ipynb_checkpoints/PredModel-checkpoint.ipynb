{
 "cells": [
  {
   "cell_type": "markdown",
   "id": "d2054018",
   "metadata": {},
   "source": [
    "Packages"
   ]
  },
  {
   "cell_type": "code",
   "execution_count": 1,
   "id": "6139ebca",
   "metadata": {},
   "outputs": [],
   "source": [
    "import pandas as pd\n",
    "import numpy as np\n",
    "from sklearn.ensemble import RandomForestRegressor\n",
    "from sklearn.model_selection import GridSearchCV\n",
    "from sklearn.preprocessing import LabelEncoder\n",
    "from xgboost import XGBRegressor\n",
    "import joblib"
   ]
  },
  {
   "cell_type": "markdown",
   "id": "4e75cda0",
   "metadata": {},
   "source": [
    "Reading the data"
   ]
  },
  {
   "cell_type": "code",
   "execution_count": 2,
   "id": "90808023",
   "metadata": {},
   "outputs": [
    {
     "data": {
      "text/html": [
       "<div>\n",
       "<style scoped>\n",
       "    .dataframe tbody tr th:only-of-type {\n",
       "        vertical-align: middle;\n",
       "    }\n",
       "\n",
       "    .dataframe tbody tr th {\n",
       "        vertical-align: top;\n",
       "    }\n",
       "\n",
       "    .dataframe thead th {\n",
       "        text-align: right;\n",
       "    }\n",
       "</style>\n",
       "<table border=\"1\" class=\"dataframe\">\n",
       "  <thead>\n",
       "    <tr style=\"text-align: right;\">\n",
       "      <th></th>\n",
       "      <th>Id</th>\n",
       "      <th>MSSubClass</th>\n",
       "      <th>MSZoning</th>\n",
       "      <th>LotArea</th>\n",
       "      <th>BldgType</th>\n",
       "      <th>HouseStyle</th>\n",
       "      <th>OverallQual</th>\n",
       "      <th>OverallCond</th>\n",
       "      <th>YearBuilt</th>\n",
       "      <th>YearRemodAdd</th>\n",
       "      <th>BedroomAbvGr</th>\n",
       "      <th>FullBath</th>\n",
       "      <th>GrLivArea</th>\n",
       "      <th>MoSold</th>\n",
       "      <th>YrSold</th>\n",
       "      <th>SaleType</th>\n",
       "      <th>SaleCondition</th>\n",
       "      <th>SalePrice</th>\n",
       "    </tr>\n",
       "  </thead>\n",
       "  <tbody>\n",
       "    <tr>\n",
       "      <th>0</th>\n",
       "      <td>1</td>\n",
       "      <td>60</td>\n",
       "      <td>RL</td>\n",
       "      <td>8450</td>\n",
       "      <td>1Fam</td>\n",
       "      <td>2Story</td>\n",
       "      <td>7</td>\n",
       "      <td>5</td>\n",
       "      <td>2003</td>\n",
       "      <td>2003</td>\n",
       "      <td>3</td>\n",
       "      <td>2</td>\n",
       "      <td>1710</td>\n",
       "      <td>2</td>\n",
       "      <td>2008</td>\n",
       "      <td>WD</td>\n",
       "      <td>Normal</td>\n",
       "      <td>208500</td>\n",
       "    </tr>\n",
       "    <tr>\n",
       "      <th>1</th>\n",
       "      <td>2</td>\n",
       "      <td>20</td>\n",
       "      <td>RL</td>\n",
       "      <td>9600</td>\n",
       "      <td>1Fam</td>\n",
       "      <td>1Story</td>\n",
       "      <td>6</td>\n",
       "      <td>8</td>\n",
       "      <td>1976</td>\n",
       "      <td>1976</td>\n",
       "      <td>3</td>\n",
       "      <td>2</td>\n",
       "      <td>1262</td>\n",
       "      <td>5</td>\n",
       "      <td>2007</td>\n",
       "      <td>WD</td>\n",
       "      <td>Normal</td>\n",
       "      <td>181500</td>\n",
       "    </tr>\n",
       "    <tr>\n",
       "      <th>2</th>\n",
       "      <td>3</td>\n",
       "      <td>60</td>\n",
       "      <td>RL</td>\n",
       "      <td>11250</td>\n",
       "      <td>1Fam</td>\n",
       "      <td>2Story</td>\n",
       "      <td>7</td>\n",
       "      <td>5</td>\n",
       "      <td>2001</td>\n",
       "      <td>2002</td>\n",
       "      <td>3</td>\n",
       "      <td>2</td>\n",
       "      <td>1786</td>\n",
       "      <td>9</td>\n",
       "      <td>2008</td>\n",
       "      <td>WD</td>\n",
       "      <td>Normal</td>\n",
       "      <td>223500</td>\n",
       "    </tr>\n",
       "    <tr>\n",
       "      <th>3</th>\n",
       "      <td>4</td>\n",
       "      <td>70</td>\n",
       "      <td>RL</td>\n",
       "      <td>9550</td>\n",
       "      <td>1Fam</td>\n",
       "      <td>2Story</td>\n",
       "      <td>7</td>\n",
       "      <td>5</td>\n",
       "      <td>1915</td>\n",
       "      <td>1970</td>\n",
       "      <td>3</td>\n",
       "      <td>1</td>\n",
       "      <td>1717</td>\n",
       "      <td>2</td>\n",
       "      <td>2006</td>\n",
       "      <td>WD</td>\n",
       "      <td>Abnorml</td>\n",
       "      <td>140000</td>\n",
       "    </tr>\n",
       "    <tr>\n",
       "      <th>4</th>\n",
       "      <td>5</td>\n",
       "      <td>60</td>\n",
       "      <td>RL</td>\n",
       "      <td>14260</td>\n",
       "      <td>1Fam</td>\n",
       "      <td>2Story</td>\n",
       "      <td>8</td>\n",
       "      <td>5</td>\n",
       "      <td>2000</td>\n",
       "      <td>2000</td>\n",
       "      <td>4</td>\n",
       "      <td>2</td>\n",
       "      <td>2198</td>\n",
       "      <td>12</td>\n",
       "      <td>2008</td>\n",
       "      <td>WD</td>\n",
       "      <td>Normal</td>\n",
       "      <td>250000</td>\n",
       "    </tr>\n",
       "    <tr>\n",
       "      <th>...</th>\n",
       "      <td>...</td>\n",
       "      <td>...</td>\n",
       "      <td>...</td>\n",
       "      <td>...</td>\n",
       "      <td>...</td>\n",
       "      <td>...</td>\n",
       "      <td>...</td>\n",
       "      <td>...</td>\n",
       "      <td>...</td>\n",
       "      <td>...</td>\n",
       "      <td>...</td>\n",
       "      <td>...</td>\n",
       "      <td>...</td>\n",
       "      <td>...</td>\n",
       "      <td>...</td>\n",
       "      <td>...</td>\n",
       "      <td>...</td>\n",
       "      <td>...</td>\n",
       "    </tr>\n",
       "    <tr>\n",
       "      <th>1455</th>\n",
       "      <td>1456</td>\n",
       "      <td>60</td>\n",
       "      <td>RL</td>\n",
       "      <td>7917</td>\n",
       "      <td>1Fam</td>\n",
       "      <td>2Story</td>\n",
       "      <td>6</td>\n",
       "      <td>5</td>\n",
       "      <td>1999</td>\n",
       "      <td>2000</td>\n",
       "      <td>3</td>\n",
       "      <td>2</td>\n",
       "      <td>1647</td>\n",
       "      <td>8</td>\n",
       "      <td>2007</td>\n",
       "      <td>WD</td>\n",
       "      <td>Normal</td>\n",
       "      <td>175000</td>\n",
       "    </tr>\n",
       "    <tr>\n",
       "      <th>1456</th>\n",
       "      <td>1457</td>\n",
       "      <td>20</td>\n",
       "      <td>RL</td>\n",
       "      <td>13175</td>\n",
       "      <td>1Fam</td>\n",
       "      <td>1Story</td>\n",
       "      <td>6</td>\n",
       "      <td>6</td>\n",
       "      <td>1978</td>\n",
       "      <td>1988</td>\n",
       "      <td>3</td>\n",
       "      <td>2</td>\n",
       "      <td>2073</td>\n",
       "      <td>2</td>\n",
       "      <td>2010</td>\n",
       "      <td>WD</td>\n",
       "      <td>Normal</td>\n",
       "      <td>210000</td>\n",
       "    </tr>\n",
       "    <tr>\n",
       "      <th>1457</th>\n",
       "      <td>1458</td>\n",
       "      <td>70</td>\n",
       "      <td>RL</td>\n",
       "      <td>9042</td>\n",
       "      <td>1Fam</td>\n",
       "      <td>2Story</td>\n",
       "      <td>7</td>\n",
       "      <td>9</td>\n",
       "      <td>1941</td>\n",
       "      <td>2006</td>\n",
       "      <td>4</td>\n",
       "      <td>2</td>\n",
       "      <td>2340</td>\n",
       "      <td>5</td>\n",
       "      <td>2010</td>\n",
       "      <td>WD</td>\n",
       "      <td>Normal</td>\n",
       "      <td>266500</td>\n",
       "    </tr>\n",
       "    <tr>\n",
       "      <th>1458</th>\n",
       "      <td>1459</td>\n",
       "      <td>20</td>\n",
       "      <td>RL</td>\n",
       "      <td>9717</td>\n",
       "      <td>1Fam</td>\n",
       "      <td>1Story</td>\n",
       "      <td>5</td>\n",
       "      <td>6</td>\n",
       "      <td>1950</td>\n",
       "      <td>1996</td>\n",
       "      <td>2</td>\n",
       "      <td>1</td>\n",
       "      <td>1078</td>\n",
       "      <td>4</td>\n",
       "      <td>2010</td>\n",
       "      <td>WD</td>\n",
       "      <td>Normal</td>\n",
       "      <td>142125</td>\n",
       "    </tr>\n",
       "    <tr>\n",
       "      <th>1459</th>\n",
       "      <td>1460</td>\n",
       "      <td>20</td>\n",
       "      <td>RL</td>\n",
       "      <td>9937</td>\n",
       "      <td>1Fam</td>\n",
       "      <td>1Story</td>\n",
       "      <td>5</td>\n",
       "      <td>6</td>\n",
       "      <td>1965</td>\n",
       "      <td>1965</td>\n",
       "      <td>3</td>\n",
       "      <td>1</td>\n",
       "      <td>1256</td>\n",
       "      <td>6</td>\n",
       "      <td>2008</td>\n",
       "      <td>WD</td>\n",
       "      <td>Normal</td>\n",
       "      <td>147500</td>\n",
       "    </tr>\n",
       "  </tbody>\n",
       "</table>\n",
       "<p>1460 rows × 18 columns</p>\n",
       "</div>"
      ],
      "text/plain": [
       "        Id  MSSubClass MSZoning  LotArea BldgType HouseStyle  OverallQual  \\\n",
       "0        1          60       RL     8450     1Fam     2Story            7   \n",
       "1        2          20       RL     9600     1Fam     1Story            6   \n",
       "2        3          60       RL    11250     1Fam     2Story            7   \n",
       "3        4          70       RL     9550     1Fam     2Story            7   \n",
       "4        5          60       RL    14260     1Fam     2Story            8   \n",
       "...    ...         ...      ...      ...      ...        ...          ...   \n",
       "1455  1456          60       RL     7917     1Fam     2Story            6   \n",
       "1456  1457          20       RL    13175     1Fam     1Story            6   \n",
       "1457  1458          70       RL     9042     1Fam     2Story            7   \n",
       "1458  1459          20       RL     9717     1Fam     1Story            5   \n",
       "1459  1460          20       RL     9937     1Fam     1Story            5   \n",
       "\n",
       "      OverallCond  YearBuilt  YearRemodAdd  BedroomAbvGr  FullBath  GrLivArea  \\\n",
       "0               5       2003          2003             3         2       1710   \n",
       "1               8       1976          1976             3         2       1262   \n",
       "2               5       2001          2002             3         2       1786   \n",
       "3               5       1915          1970             3         1       1717   \n",
       "4               5       2000          2000             4         2       2198   \n",
       "...           ...        ...           ...           ...       ...        ...   \n",
       "1455            5       1999          2000             3         2       1647   \n",
       "1456            6       1978          1988             3         2       2073   \n",
       "1457            9       1941          2006             4         2       2340   \n",
       "1458            6       1950          1996             2         1       1078   \n",
       "1459            6       1965          1965             3         1       1256   \n",
       "\n",
       "      MoSold  YrSold SaleType SaleCondition  SalePrice  \n",
       "0          2    2008       WD        Normal     208500  \n",
       "1          5    2007       WD        Normal     181500  \n",
       "2          9    2008       WD        Normal     223500  \n",
       "3          2    2006       WD       Abnorml     140000  \n",
       "4         12    2008       WD        Normal     250000  \n",
       "...      ...     ...      ...           ...        ...  \n",
       "1455       8    2007       WD        Normal     175000  \n",
       "1456       2    2010       WD        Normal     210000  \n",
       "1457       5    2010       WD        Normal     266500  \n",
       "1458       4    2010       WD        Normal     142125  \n",
       "1459       6    2008       WD        Normal     147500  \n",
       "\n",
       "[1460 rows x 18 columns]"
      ]
     },
     "execution_count": 2,
     "metadata": {},
     "output_type": "execute_result"
    }
   ],
   "source": [
    "data = pd.read_csv(\"./Data/cleaned.csv\")\n",
    "data"
   ]
  },
  {
   "cell_type": "markdown",
   "id": "b146c15d",
   "metadata": {},
   "source": [
    "Splitting target and features\n",
    "Label encoding the features"
   ]
  },
  {
   "cell_type": "code",
   "execution_count": 3,
   "id": "3bdb0135",
   "metadata": {},
   "outputs": [],
   "source": [
    "target = data['SalePrice']"
   ]
  },
  {
   "cell_type": "code",
   "execution_count": 4,
   "id": "0bd6f334",
   "metadata": {},
   "outputs": [],
   "source": [
    "enc = LabelEncoder()\n",
    "result = {}\n",
    "for col in data.drop(['SalePrice'], axis=1).columns:\n",
    "    if (data[data.drop(['SalePrice'], axis = 1).columns[2]].dtype == \"int\"):\n",
    "        result[col] = data[col]\n",
    "    else:\n",
    "        result[col] = pd.Series(enc.fit_transform(data[col]))\n",
    "features = pd.DataFrame(result)"
   ]
  },
  {
   "cell_type": "markdown",
   "id": "8a1e3190",
   "metadata": {},
   "source": [
    "Random Forest"
   ]
  },
  {
   "cell_type": "code",
   "execution_count": 15,
   "id": "c97c89d6",
   "metadata": {},
   "outputs": [],
   "source": [
    "rf     = RandomForestRegressor(n_estimators = 100)\n",
    "rf_params = {'max_features': range(3,9,3), 'max_depth': range(4, 21, 4), 'min_samples_leaf': [5,10]}\n",
    "gs_rf  = GridSearchCV(rf, rf_params, cv = 5, return_train_score = True)"
   ]
  },
  {
   "cell_type": "code",
   "execution_count": 16,
   "id": "b808940b",
   "metadata": {},
   "outputs": [
    {
     "data": {
      "text/plain": [
       "GridSearchCV(cv=5, estimator=RandomForestRegressor(),\n",
       "             param_grid={'max_depth': range(4, 21, 4),\n",
       "                         'max_features': range(3, 9, 3),\n",
       "                         'min_samples_leaf': [5, 10]},\n",
       "             return_train_score=True)"
      ]
     },
     "execution_count": 16,
     "metadata": {},
     "output_type": "execute_result"
    }
   ],
   "source": [
    "np.random.seed(0)\n",
    "gs_rf.fit(features, target)"
   ]
  },
  {
   "cell_type": "code",
   "execution_count": 7,
   "id": "4d421a39",
   "metadata": {},
   "outputs": [
    {
     "data": {
      "text/plain": [
       "0.8241046520946236"
      ]
     },
     "execution_count": 7,
     "metadata": {},
     "output_type": "execute_result"
    }
   ],
   "source": [
    "gs_rf.best_score_"
   ]
  },
  {
   "cell_type": "code",
   "execution_count": 8,
   "id": "8320c133",
   "metadata": {},
   "outputs": [
    {
     "data": {
      "text/plain": [
       "{'max_depth': 8, 'max_features': 6, 'min_samples_leaf': 5}"
      ]
     },
     "execution_count": 8,
     "metadata": {},
     "output_type": "execute_result"
    }
   ],
   "source": [
    "gs_rf.best_params_"
   ]
  },
  {
   "cell_type": "code",
   "execution_count": 9,
   "id": "ec4f1fdc",
   "metadata": {},
   "outputs": [
    {
     "data": {
      "text/plain": [
       "OverallQual     0.379758\n",
       "GrLivArea       0.235529\n",
       "YearBuilt       0.136476\n",
       "LotArea         0.065316\n",
       "YearRemodAdd    0.056715\n",
       "FullBath        0.048805\n",
       "dtype: float64"
      ]
     },
     "execution_count": 9,
     "metadata": {},
     "output_type": "execute_result"
    }
   ],
   "source": [
    "importances = pd.Series(gs_rf.best_estimator_.feature_importances_, index=features.columns).sort_values(ascending=False)\n",
    "importances[:6]"
   ]
  },
  {
   "cell_type": "code",
   "execution_count": 26,
   "id": "2491cf34",
   "metadata": {},
   "outputs": [],
   "source": [
    "xgb = XGBRegressor(n_estimators = 100)\n",
    "xgb_params = {'max_depth': range(4, 21, 4), 'eta': [0.001, 0.1, 0.3]}\n",
    "gs_xgb = GridSearchCV(xgb, xgb_params, cv = 5, return_train_score = True)"
   ]
  },
  {
   "cell_type": "code",
   "execution_count": 27,
   "id": "19a64e3c",
   "metadata": {},
   "outputs": [
    {
     "data": {
      "text/plain": [
       "GridSearchCV(cv=5,\n",
       "             estimator=XGBRegressor(base_score=None, booster=None,\n",
       "                                    colsample_bylevel=None,\n",
       "                                    colsample_bynode=None,\n",
       "                                    colsample_bytree=None, gamma=None,\n",
       "                                    gpu_id=None, importance_type='gain',\n",
       "                                    interaction_constraints=None,\n",
       "                                    learning_rate=None, max_delta_step=None,\n",
       "                                    max_depth=None, min_child_weight=None,\n",
       "                                    missing=nan, monotone_constraints=None,\n",
       "                                    n_estimators=100, n_jobs=None,\n",
       "                                    num_parallel_tree=None, random_state=None,\n",
       "                                    reg_alpha=None, reg_lambda=None,\n",
       "                                    scale_pos_weight=None, subsample=None,\n",
       "                                    tree_method=None, validate_parameters=None,\n",
       "                                    verbosity=None),\n",
       "             param_grid={'eta': [0.001, 0.1, 0.3],\n",
       "                         'max_depth': range(4, 21, 4)},\n",
       "             return_train_score=True)"
      ]
     },
     "execution_count": 27,
     "metadata": {},
     "output_type": "execute_result"
    }
   ],
   "source": [
    "gs_xgb.fit(features, target)"
   ]
  },
  {
   "cell_type": "code",
   "execution_count": null,
   "id": "0f7086db",
   "metadata": {},
   "outputs": [],
   "source": [
    "model = gs_xgb.best_estimator_"
   ]
  },
  {
   "cell_type": "code",
   "execution_count": 28,
   "id": "12a6e5fe",
   "metadata": {},
   "outputs": [
    {
     "data": {
      "text/plain": [
       "0.8406336256607343"
      ]
     },
     "execution_count": 28,
     "metadata": {},
     "output_type": "execute_result"
    }
   ],
   "source": [
    "gs_xgb.best_score_"
   ]
  },
  {
   "cell_type": "code",
   "execution_count": 29,
   "id": "35f2506a",
   "metadata": {
    "scrolled": true
   },
   "outputs": [
    {
     "data": {
      "text/plain": [
       "{'eta': 0.1, 'max_depth': 4}"
      ]
     },
     "execution_count": 29,
     "metadata": {},
     "output_type": "execute_result"
    }
   ],
   "source": [
    "gs_xgb.best_params_"
   ]
  },
  {
   "cell_type": "markdown",
   "id": "29b0bf62",
   "metadata": {},
   "source": [
    "Save encoder and model for later"
   ]
  },
  {
   "cell_type": "code",
   "execution_count": null,
   "id": "508a519b",
   "metadata": {},
   "outputs": [],
   "source": [
    "# save the model to disk\n",
    "filename = 'fitted_model.sav'\n",
    "joblib.dump(model, filename)\n",
    "filename = 'fitted_encoder.sav'\n",
    "joblib.dump(enc, filename)"
   ]
  }
 ],
 "metadata": {
  "kernelspec": {
   "display_name": "Python 3",
   "language": "python",
   "name": "python3"
  },
  "language_info": {
   "codemirror_mode": {
    "name": "ipython",
    "version": 3
   },
   "file_extension": ".py",
   "mimetype": "text/x-python",
   "name": "python",
   "nbconvert_exporter": "python",
   "pygments_lexer": "ipython3",
   "version": "3.8.8"
  }
 },
 "nbformat": 4,
 "nbformat_minor": 5
}
