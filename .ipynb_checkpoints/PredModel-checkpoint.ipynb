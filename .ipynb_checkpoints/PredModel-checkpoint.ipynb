{
 "cells": [
  {
   "cell_type": "markdown",
   "id": "d2054018",
   "metadata": {},
   "source": [
    "Packages"
   ]
  },
  {
   "cell_type": "code",
   "execution_count": 1,
   "id": "6139ebca",
   "metadata": {},
   "outputs": [],
   "source": [
    "import pandas as pd\n",
    "import numpy as np\n",
    "from sklearn.ensemble import RandomForestRegressor\n",
    "from sklearn.model_selection import GridSearchCV\n",
    "from sklearn.preprocessing import LabelEncoder\n",
    "from xgboost import XGBRegressor\n",
    "import joblib"
   ]
  },
  {
   "cell_type": "markdown",
   "id": "4e75cda0",
   "metadata": {},
   "source": [
    "Reading the data"
   ]
  },
  {
   "cell_type": "code",
   "execution_count": 2,
   "id": "90808023",
   "metadata": {},
   "outputs": [],
   "source": [
    "train_data = pd.read_csv(\"./Data/cleaned_train.csv\")\n",
    "target = pd.read_csv(\"./Data/cleaned_train_target.csv\")\n",
    "test_data = pd.read_csv(\"./Data/cleaned.csv\")"
   ]
  },
  {
   "cell_type": "markdown",
   "id": "b146c15d",
   "metadata": {},
   "source": [
    "Splitting target and features\n",
    "Label encoding the features"
   ]
  },
  {
   "cell_type": "code",
   "execution_count": 3,
   "id": "0bd6f334",
   "metadata": {},
   "outputs": [],
   "source": [
    "enc = LabelEncoder()\n",
    "train_result = {}\n",
    "test_result = {}\n",
    "for col in train_data.columns:\n",
    "    if (train_data[col].dtype == \"int\"):\n",
    "        train_result[col] = train_data[col]\n",
    "        test_result[col] = test_data[col]\n",
    "    else:\n",
    "        train_result[col] = pd.Series(enc.fit_transform(train_data[col]))\n",
    "        test_result[col] = pd.Series(enc.transform(test_data[col]))\n",
    "train_features = pd.DataFrame(train_result)\n",
    "test_features = pd.DataFrame(test_result)"
   ]
  },
  {
   "cell_type": "markdown",
   "id": "03a7801b",
   "metadata": {},
   "source": [
    "Random Forest"
   ]
  },
  {
   "cell_type": "code",
   "execution_count": null,
   "id": "07ca6e87",
   "metadata": {},
   "outputs": [],
   "source": [
    "rf = RandomForestRegressor(n_jobs = -1, n_estimators = 100)\n",
    "rf_params = {'max_features': [3,5,7,9], 'max_depth': range(1, 9), 'min_samples_leaf': [5, 25, 100, 150]}\n",
    "gs_rf = GridSearchCV(rf, rf_params, cv = 10, return_train_score = True)"
   ]
  },
  {
   "cell_type": "code",
   "execution_count": null,
   "id": "f9f84748",
   "metadata": {},
   "outputs": [],
   "source": [
    "np.random.seed(0)\n",
    "%time gs_rf.fit(train_features, target['SalePrice'])"
   ]
  },
  {
   "cell_type": "code",
   "execution_count": null,
   "id": "ceb18781",
   "metadata": {},
   "outputs": [],
   "source": [
    "gs_rf.best_score_"
   ]
  },
  {
   "cell_type": "code",
   "execution_count": null,
   "id": "8320c133",
   "metadata": {},
   "outputs": [],
   "source": [
    "gs_rf.best_params_"
   ]
  },
  {
   "cell_type": "code",
   "execution_count": null,
   "id": "ec4f1fdc",
   "metadata": {},
   "outputs": [],
   "source": [
    "importances = pd.Series(gs_rf.best_estimator_.feature_importances_, index=train_features.columns).sort_values(ascending=False)\n",
    "importances[:6]"
   ]
  },
  {
   "cell_type": "markdown",
   "id": "98755b4d",
   "metadata": {},
   "source": [
    "XGBoost"
   ]
  },
  {
   "cell_type": "code",
   "execution_count": 4,
   "id": "2491cf34",
   "metadata": {},
   "outputs": [],
   "source": [
    "xgb = XGBRegressor(n_jobs = -1, n_estimators = 100)\n",
    "xgb_params = {'max_depth': range(1, 6), 'eta': np.linspace(0.0001, 0.5, num = 50, endpoint = True)}\n",
    "gs_xgb = GridSearchCV(xgb, xgb_params, cv = 10, return_train_score = True)"
   ]
  },
  {
   "cell_type": "code",
   "execution_count": 5,
   "id": "19a64e3c",
   "metadata": {},
   "outputs": [
    {
     "name": "stdout",
     "output_type": "stream",
     "text": [
      "CPU times: user 18min 53s, sys: 1min 43s, total: 20min 37s\n",
      "Wall time: 2min 42s\n"
     ]
    },
    {
     "data": {
      "text/plain": [
       "GridSearchCV(cv=10,\n",
       "             estimator=XGBRegressor(base_score=None, booster=None,\n",
       "                                    colsample_bylevel=None,\n",
       "                                    colsample_bynode=None,\n",
       "                                    colsample_bytree=None, gamma=None,\n",
       "                                    gpu_id=None, importance_type='gain',\n",
       "                                    interaction_constraints=None,\n",
       "                                    learning_rate=None, max_delta_step=None,\n",
       "                                    max_depth=None, min_child_weight=None,\n",
       "                                    missing=nan, monotone_constraints=None,\n",
       "                                    n_estimators=100, n_jobs...\n",
       "       2.85757143e-01, 2.95959184e-01, 3.06161224e-01, 3.16363265e-01,\n",
       "       3.26565306e-01, 3.36767347e-01, 3.46969388e-01, 3.57171429e-01,\n",
       "       3.67373469e-01, 3.77575510e-01, 3.87777551e-01, 3.97979592e-01,\n",
       "       4.08181633e-01, 4.18383673e-01, 4.28585714e-01, 4.38787755e-01,\n",
       "       4.48989796e-01, 4.59191837e-01, 4.69393878e-01, 4.79595918e-01,\n",
       "       4.89797959e-01, 5.00000000e-01]),\n",
       "                         'max_depth': range(1, 6)},\n",
       "             return_train_score=True)"
      ]
     },
     "execution_count": 5,
     "metadata": {},
     "output_type": "execute_result"
    }
   ],
   "source": [
    "np.random.seed(0)\n",
    "%time gs_xgb.fit(train_features, target)"
   ]
  },
  {
   "cell_type": "code",
   "execution_count": 6,
   "id": "12a6e5fe",
   "metadata": {},
   "outputs": [
    {
     "data": {
      "text/plain": [
       "0.8588433653183161"
      ]
     },
     "execution_count": 6,
     "metadata": {},
     "output_type": "execute_result"
    }
   ],
   "source": [
    "gs_xgb.best_score_"
   ]
  },
  {
   "cell_type": "code",
   "execution_count": 7,
   "id": "35f2506a",
   "metadata": {
    "scrolled": true
   },
   "outputs": [
    {
     "data": {
      "text/plain": [
       "{'eta': 0.3367673469387755, 'max_depth': 2}"
      ]
     },
     "execution_count": 7,
     "metadata": {},
     "output_type": "execute_result"
    }
   ],
   "source": [
    "gs_xgb.best_params_"
   ]
  },
  {
   "cell_type": "code",
   "execution_count": 8,
   "id": "540122ec",
   "metadata": {},
   "outputs": [
    {
     "ename": "NameError",
     "evalue": "name 'features' is not defined",
     "output_type": "error",
     "traceback": [
      "\u001b[0;31m---------------------------------------------------------------------------\u001b[0m",
      "\u001b[0;31mNameError\u001b[0m                                 Traceback (most recent call last)",
      "\u001b[0;32m<ipython-input-8-afb93c526c3d>\u001b[0m in \u001b[0;36m<module>\u001b[0;34m\u001b[0m\n\u001b[0;32m----> 1\u001b[0;31m \u001b[0mimportances\u001b[0m \u001b[0;34m=\u001b[0m \u001b[0mpd\u001b[0m\u001b[0;34m.\u001b[0m\u001b[0mSeries\u001b[0m\u001b[0;34m(\u001b[0m\u001b[0mgs_xgb\u001b[0m\u001b[0;34m.\u001b[0m\u001b[0mbest_estimator_\u001b[0m\u001b[0;34m.\u001b[0m\u001b[0mfeature_importances_\u001b[0m\u001b[0;34m,\u001b[0m \u001b[0mindex\u001b[0m\u001b[0;34m=\u001b[0m\u001b[0mfeatures\u001b[0m\u001b[0;34m.\u001b[0m\u001b[0mcolumns\u001b[0m\u001b[0;34m)\u001b[0m\u001b[0;34m.\u001b[0m\u001b[0msort_values\u001b[0m\u001b[0;34m(\u001b[0m\u001b[0mascending\u001b[0m\u001b[0;34m=\u001b[0m\u001b[0;32mFalse\u001b[0m\u001b[0;34m)\u001b[0m\u001b[0;34m\u001b[0m\u001b[0;34m\u001b[0m\u001b[0m\n\u001b[0m\u001b[1;32m      2\u001b[0m \u001b[0mimportances\u001b[0m\u001b[0;34m[\u001b[0m\u001b[0;34m:\u001b[0m\u001b[0;36m6\u001b[0m\u001b[0;34m]\u001b[0m\u001b[0;34m\u001b[0m\u001b[0;34m\u001b[0m\u001b[0m\n",
      "\u001b[0;31mNameError\u001b[0m: name 'features' is not defined"
     ]
    }
   ],
   "source": [
    "importances = pd.Series(gs_xgb.best_estimator_.feature_importances_, index=train_features.columns).sort_values(ascending=False)\n",
    "importances[:6]"
   ]
  },
  {
   "cell_type": "code",
   "execution_count": null,
   "id": "f1ac3d99",
   "metadata": {},
   "outputs": [],
   "source": [
    "model = gs_xgb.best_estimator_"
   ]
  },
  {
   "cell_type": "markdown",
   "id": "ac020c84",
   "metadata": {},
   "source": [
    "Running the model on the test dataset"
   ]
  },
  {
   "cell_type": "code",
   "execution_count": null,
   "id": "daeffb10",
   "metadata": {},
   "outputs": [],
   "source": [
    "pred = pd.Series(model.predict(test_features))\n",
    "prediction = pd.DataFrame({\"Id\" : test_data[\"Id\"], \"SalePrice\" : pred})\n",
    "prediction.set_index(\"Id\", inplace = True)"
   ]
  },
  {
   "cell_type": "code",
   "execution_count": null,
   "id": "2cf21945",
   "metadata": {},
   "outputs": [],
   "source": [
    "prediction.to_csv(\"./Data/prediction.csv\")"
   ]
  },
  {
   "cell_type": "markdown",
   "id": "d786b349",
   "metadata": {},
   "source": [
    "Save encoder and model for later"
   ]
  },
  {
   "cell_type": "code",
   "execution_count": null,
   "id": "69d2ecc4",
   "metadata": {},
   "outputs": [],
   "source": [
    "# save the model to disk\n",
    "filename = 'fitted_model.sav'\n",
    "joblib.dump(model, filename)\n",
    "filename = 'fitted_encoder.sav'\n",
    "joblib.dump(enc, filename)"
   ]
  },
  {
   "cell_type": "markdown",
   "id": "bd5f1151",
   "metadata": {},
   "source": [
    "Checking model on the test data set"
   ]
  }
 ],
 "metadata": {
  "kernelspec": {
   "display_name": "Python 3",
   "language": "python",
   "name": "python3"
  },
  "language_info": {
   "codemirror_mode": {
    "name": "ipython",
    "version": 3
   },
   "file_extension": ".py",
   "mimetype": "text/x-python",
   "name": "python",
   "nbconvert_exporter": "python",
   "pygments_lexer": "ipython3",
   "version": "3.8.8"
  }
 },
 "nbformat": 4,
 "nbformat_minor": 5
}
