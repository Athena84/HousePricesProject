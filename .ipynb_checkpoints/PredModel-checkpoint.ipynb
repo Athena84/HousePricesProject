{
 "cells": [
  {
   "cell_type": "markdown",
   "id": "d2054018",
   "metadata": {},
   "source": [
    "Packages"
   ]
  },
  {
   "cell_type": "code",
   "execution_count": 42,
   "id": "33369e28",
   "metadata": {},
   "outputs": [],
   "source": [
    "import pandas as pd\n",
    "import numpy as np\n",
    "from sklearn.ensemble import RandomForestRegressor\n",
    "from sklearn.model_selection import GridSearchCV\n",
    "from sklearn.linear_model import Ridge\n",
    "from sklearn.model_selection import train_test_split\n",
    "from sklearn.preprocessing import LabelEncoder\n",
    "from xgboost import XGBRegressor\n",
    "import joblib\n",
    "import matplotlib.pylab as pl\n",
    "import seaborn as sns\n",
    "import shap\n",
    "from scipy.stats import pearsonr"
   ]
  },
  {
   "cell_type": "markdown",
   "id": "4e75cda0",
   "metadata": {},
   "source": [
    "Reading the data"
   ]
  },
  {
   "cell_type": "code",
   "execution_count": 17,
   "id": "90808023",
   "metadata": {},
   "outputs": [],
   "source": [
    "train_data = pd.read_csv(\"./Data/cleaned_train.csv\")\n",
    "test_data = pd.read_csv(\"./Data/cleaned_test.csv\")\n",
    "target = pd.read_csv(\"./Data/cleaned_target.csv\")\n",
    "\n",
    "target.set_index(\"Id\", inplace = True)"
   ]
  },
  {
   "cell_type": "markdown",
   "id": "b146c15d",
   "metadata": {},
   "source": [
    "Label encoding the features"
   ]
  },
  {
   "cell_type": "code",
   "execution_count": 18,
   "id": "0bd6f334",
   "metadata": {},
   "outputs": [],
   "source": [
    "enc = LabelEncoder()\n",
    "train_result = {}\n",
    "test_result = {}\n",
    "for col in train_data.columns:\n",
    "    if (train_data[col].dtype == \"int\" or train_data[col].dtype == \"float\"):\n",
    "        train_result[col] = train_data[col]\n",
    "        test_result[col] = test_data[col]\n",
    "    else:\n",
    "        train_result[col] = pd.Series(enc.fit_transform(train_data[col]))\n",
    "        test_result[col] = pd.Series(enc.transform(test_data[col]))\n",
    "train_features = pd.DataFrame(train_result)\n",
    "test_features = pd.DataFrame(test_result)\n",
    "\n",
    "train_features.set_index(\"Id\", inplace = True)\n",
    "test_features.set_index(\"Id\", inplace = True)"
   ]
  },
  {
   "cell_type": "code",
   "execution_count": 19,
   "id": "8fc439d7",
   "metadata": {
    "scrolled": true
   },
   "outputs": [
    {
     "data": {
      "text/plain": [
       "Index(['Id', 'LotArea', 'OverallQual', 'GarageCars', 'TotRmsAbvGrd',\n",
       "       'OverallCond', 'Fireplaces', 'CentralAir', 'Street', 'YrSold',\n",
       "       'KitchenQual', 'ExterQual', 'ExterCond', 'HeatingQC', 'GarageQual',\n",
       "       'PoolQC', 'BsmtCond', 'Fence', 'BsmtExposure', 'BldgType', 'Functional',\n",
       "       'ProxPos', 'ProxRoad', 'ProxRail', 'Heating', 'BasementQualFactor',\n",
       "       'TotLivArea', 'FullBath', 'HalfBath', 'PorchSF', 'Neighborhood',\n",
       "       'MSSubClass', 'SaleCondition'],\n",
       "      dtype='object')"
      ]
     },
     "execution_count": 19,
     "metadata": {},
     "output_type": "execute_result"
    }
   ],
   "source": [
    "train_data.columns"
   ]
  },
  {
   "cell_type": "code",
   "execution_count": 59,
   "id": "bddfad30",
   "metadata": {},
   "outputs": [
    {
     "data": {
      "text/plain": [
       "Index(['LotArea', 'OverallQual', 'GarageCars', 'TotRmsAbvGrd', 'OverallCond',\n",
       "       'Fireplaces', 'CentralAir', 'Street', 'YrSold', 'KitchenQual',\n",
       "       'ExterQual', 'ExterCond', 'HeatingQC', 'GarageQual', 'PoolQC',\n",
       "       'BsmtCond', 'Fence', 'BsmtExposure', 'BldgType', 'Functional',\n",
       "       'ProxPos', 'ProxRoad', 'ProxRail', 'Heating', 'BasementQualFactor',\n",
       "       'TotLivArea', 'FullBath', 'HalfBath', 'PorchSF', 'Neighborhood',\n",
       "       'MSSubClass', 'SaleCondition'],\n",
       "      dtype='object')"
      ]
     },
     "execution_count": 59,
     "metadata": {},
     "output_type": "execute_result"
    }
   ],
   "source": [
    "train_features.columns"
   ]
  },
  {
   "cell_type": "markdown",
   "id": "7495226f",
   "metadata": {},
   "source": [
    "Random Forest"
   ]
  },
  {
   "cell_type": "code",
   "execution_count": null,
   "id": "7bcf51ed",
   "metadata": {},
   "outputs": [],
   "source": [
    "rf = RandomForestRegressor(n_jobs = -1, n_estimators = 140)\n",
    "rf_params = {'max_features': range(3,10), 'max_depth': range(1, 13), 'min_samples_leaf': [4, 7, 14, 70, 140]}\n",
    "gs_rf = GridSearchCV(rf, rf_params, cv = 10, return_train_score = True)"
   ]
  },
  {
   "cell_type": "code",
   "execution_count": null,
   "id": "2f525ff6",
   "metadata": {},
   "outputs": [],
   "source": [
    "np.random.seed(0)\n",
    "%time gs_rf.fit(train_features, target['SalePrice'])"
   ]
  },
  {
   "cell_type": "code",
   "execution_count": null,
   "id": "04e9b5ca",
   "metadata": {},
   "outputs": [],
   "source": [
    "gs_rf.best_score_"
   ]
  },
  {
   "cell_type": "code",
   "execution_count": null,
   "id": "8320c133",
   "metadata": {},
   "outputs": [],
   "source": [
    "gs_rf.best_params_"
   ]
  },
  {
   "cell_type": "code",
   "execution_count": null,
   "id": "ec4f1fdc",
   "metadata": {
    "scrolled": true
   },
   "outputs": [],
   "source": [
    "importances = pd.Series(gs_rf.best_estimator_.feature_importances_, index=train_features.columns).sort_values(ascending=False)\n",
    "importances[:20]"
   ]
  },
  {
   "cell_type": "code",
   "execution_count": null,
   "id": "dade5d88",
   "metadata": {},
   "outputs": [],
   "source": [
    "model_rf = gs_rf.best_estimator_"
   ]
  },
  {
   "cell_type": "markdown",
   "id": "2ca6422b",
   "metadata": {},
   "source": [
    "XGBoost without early stopping"
   ]
  },
  {
   "cell_type": "code",
   "execution_count": null,
   "id": "f4a3c480",
   "metadata": {},
   "outputs": [],
   "source": [
    "xgb = XGBRegressor(n_jobs = -1, booster = \"gbtree\")\n",
    "eta_range = [0.01 * i for i in range(1, 21)]\n",
    "max_depth_range = range(2, 6)\n",
    "n_estimators = range(100, 301,550)\n",
    "xgb_params = {'max_depth': max_depth_range, 'eta': eta_range, 'n_estimators' : n_estimators}\n",
    "gs_xgb = GridSearchCV(xgb, xgb_params, cv = 10, return_train_score = True)"
   ]
  },
  {
   "cell_type": "code",
   "execution_count": null,
   "id": "c37f22ef",
   "metadata": {},
   "outputs": [],
   "source": [
    "np.random.seed(0)\n",
    "%time gs_xgb.fit(train_features, target, verbose = 0)"
   ]
  },
  {
   "cell_type": "markdown",
   "id": "0f6dd2a7",
   "metadata": {},
   "source": [
    "XGBoost with early stopping"
   ]
  },
  {
   "cell_type": "code",
   "execution_count": 20,
   "id": "9f849097",
   "metadata": {},
   "outputs": [],
   "source": [
    "train_features_grid, train_features_validation, target_grid, target_validation = train_test_split(train_features, target, test_size = 0.1)"
   ]
  },
  {
   "cell_type": "code",
   "execution_count": 21,
   "id": "2491cf34",
   "metadata": {},
   "outputs": [],
   "source": [
    "xgb = XGBRegressor(n_jobs = -1, booster = \"gbtree\", n_estimators = 1000, colsample_bytree = 0.5)\n",
    "eta_range = [0.01 * i for i in range(1, 41)]\n",
    "max_depth_range = range(1, 7)\n",
    "xgb_params = {'max_depth': max_depth_range, 'eta': eta_range}\n",
    "gs_xgb = GridSearchCV(xgb, xgb_params, cv = 10, return_train_score = True)"
   ]
  },
  {
   "cell_type": "code",
   "execution_count": 22,
   "id": "19a64e3c",
   "metadata": {},
   "outputs": [
    {
     "name": "stdout",
     "output_type": "stream",
     "text": [
      "CPU times: user 22min 37s, sys: 2min 35s, total: 25min 13s\n",
      "Wall time: 3min 24s\n"
     ]
    },
    {
     "data": {
      "text/plain": [
       "GridSearchCV(cv=10,\n",
       "             estimator=XGBRegressor(base_score=None, booster='gbtree',\n",
       "                                    colsample_bylevel=None,\n",
       "                                    colsample_bynode=None, colsample_bytree=0.5,\n",
       "                                    gamma=None, gpu_id=None,\n",
       "                                    importance_type='gain',\n",
       "                                    interaction_constraints=None,\n",
       "                                    learning_rate=None, max_delta_step=None,\n",
       "                                    max_depth=None, min_child_weight=None,\n",
       "                                    missing=nan, monotone_constraints=None,\n",
       "                                    n_estimators=1000, n_...\n",
       "                                    num_parallel_tree=None, random_state=None,\n",
       "                                    reg_alpha=None, reg_lambda=None,\n",
       "                                    scale_pos_weight=None, subsample=None,\n",
       "                                    tree_method=None, validate_parameters=None,\n",
       "                                    verbosity=None),\n",
       "             param_grid={'eta': [0.01, 0.02, 0.03, 0.04, 0.05, 0.06, 0.07, 0.08,\n",
       "                                 0.09, 0.1, 0.11, 0.12, 0.13, 0.14, 0.15, 0.16,\n",
       "                                 0.17, 0.18, 0.19, 0.2, 0.21, 0.22, 0.23, 0.24,\n",
       "                                 0.25, 0.26, 0.27, 0.28, 0.29, 0.3, ...],\n",
       "                         'max_depth': range(1, 7)},\n",
       "             return_train_score=True)"
      ]
     },
     "execution_count": 22,
     "metadata": {},
     "output_type": "execute_result"
    }
   ],
   "source": [
    "np.random.seed(0)\n",
    "fit_params={\"early_stopping_rounds\":10, \n",
    "            \"eval_metric\" : \"mae\", \n",
    "            \"eval_set\" : [[train_features_validation, target_validation]]}\n",
    "%time gs_xgb.fit(train_features_grid, target_grid,verbose = 0, **fit_params)"
   ]
  },
  {
   "cell_type": "markdown",
   "id": "f6a62d27",
   "metadata": {},
   "source": [
    "Second round, narrowing in on eta"
   ]
  },
  {
   "cell_type": "code",
   "execution_count": 24,
   "id": "0ee9e816",
   "metadata": {},
   "outputs": [],
   "source": [
    "xgb = XGBRegressor(n_jobs = -1, booster = \"gbtree\", n_estimators = 1000, colsample_bytree = 0.5, max_depth = gs_xgb.best_params_[\"max_depth\"])\n",
    "eta_base = gs_xgb.best_params_[\"eta\"] - 0.01\n",
    "eta_range = [eta_base + 0.001 * i for i in range(1,20)]\n",
    "xgb_params = {'eta': eta_range}\n",
    "gs_xgb = GridSearchCV(xgb, xgb_params, cv = 10, return_train_score = True)"
   ]
  },
  {
   "cell_type": "code",
   "execution_count": 25,
   "id": "ea41ffe8",
   "metadata": {},
   "outputs": [
    {
     "name": "stdout",
     "output_type": "stream",
     "text": [
      "CPU times: user 5min 33s, sys: 32.1 s, total: 6min 5s\n",
      "Wall time: 48.3 s\n"
     ]
    },
    {
     "data": {
      "text/plain": [
       "GridSearchCV(cv=10,\n",
       "             estimator=XGBRegressor(base_score=None, booster='gbtree',\n",
       "                                    colsample_bylevel=None,\n",
       "                                    colsample_bynode=None, colsample_bytree=0.5,\n",
       "                                    gamma=None, gpu_id=None,\n",
       "                                    importance_type='gain',\n",
       "                                    interaction_constraints=None,\n",
       "                                    learning_rate=None, max_delta_step=None,\n",
       "                                    max_depth=4, min_child_weight=None,\n",
       "                                    missing=nan, monotone_constraints=None,\n",
       "                                    n_estimators=1000, n_job...\n",
       "                                    scale_pos_weight=None, subsample=None,\n",
       "                                    tree_method=None, validate_parameters=None,\n",
       "                                    verbosity=None),\n",
       "             param_grid={'eta': [0.011, 0.012, 0.013000000000000001, 0.014,\n",
       "                                 0.015, 0.016, 0.017, 0.018000000000000002,\n",
       "                                 0.019000000000000003, 0.02,\n",
       "                                 0.020999999999999998, 0.022, 0.023, 0.024,\n",
       "                                 0.025, 0.026000000000000002,\n",
       "                                 0.027000000000000003, 0.028000000000000004,\n",
       "                                 0.028999999999999998]},\n",
       "             return_train_score=True)"
      ]
     },
     "execution_count": 25,
     "metadata": {},
     "output_type": "execute_result"
    }
   ],
   "source": [
    "np.random.seed(0)\n",
    "fit_params={\"early_stopping_rounds\":10, \n",
    "            \"eval_metric\" : \"mae\", \n",
    "            \"eval_set\" : [[train_features_validation, target_validation]]}\n",
    "%time gs_xgb.fit(train_features_grid, target_grid,verbose = 0, **fit_params)"
   ]
  },
  {
   "cell_type": "markdown",
   "id": "dd66dc87",
   "metadata": {},
   "source": [
    "Fitting the residuals"
   ]
  },
  {
   "cell_type": "code",
   "execution_count": 52,
   "id": "c231cc18",
   "metadata": {},
   "outputs": [],
   "source": [
    "model_xgb = gs_xgb.best_estimator_\n",
    "predvalues_train_xgb = pd.Series(model_xgb.predict(train_features))\n",
    "prediction_train_xgb = pd.DataFrame({\"Id\" : train_data[\"Id\"], \"SalePrice\" : predvalues_train_xgb})\n",
    "prediction_train_xgb.set_index(\"Id\", inplace = True)\n",
    "residuals = target - prediction_train_xgb"
   ]
  },
  {
   "cell_type": "code",
   "execution_count": 30,
   "id": "2c5a20c2",
   "metadata": {},
   "outputs": [],
   "source": [
    "lm = Ridge()\n",
    "lm_params = {\"alpha\" : np.linspace(0.001, 100, 100)}\n",
    "gs_lm = GridSearchCV(lm, lm_params, cv = 10, return_train_score = True)"
   ]
  },
  {
   "cell_type": "code",
   "execution_count": 56,
   "id": "79556bf2",
   "metadata": {},
   "outputs": [],
   "source": [
    "def resid_correl(col):\n",
    "    return pearsonr(residuals[\"SalePrice\"], col)[0]"
   ]
  },
  {
   "cell_type": "code",
   "execution_count": 78,
   "id": "affac69a",
   "metadata": {},
   "outputs": [],
   "source": [
    "correlations = [resid_correl(train_features[col]) for col in train_features.columns]\n",
    "sorted_correlations = pd.Series(correlations, index=train_features.columns).sort_values(ascending=False)\n",
    "mask = (sorted_correlations > 0.1) | (sorted_correlations < -0.1)\n",
    "selected_cols = sorted_correlations[mask].index"
   ]
  },
  {
   "cell_type": "code",
   "execution_count": 79,
   "id": "eb42e86c",
   "metadata": {},
   "outputs": [
    {
     "name": "stdout",
     "output_type": "stream",
     "text": [
      "CPU times: user 4.1 s, sys: 10.5 ms, total: 4.11 s\n",
      "Wall time: 4.11 s\n"
     ]
    },
    {
     "data": {
      "text/plain": [
       "GridSearchCV(cv=10, estimator=Ridge(),\n",
       "             param_grid={'alpha': array([1.00000000e-03, 1.01109091e+00, 2.02118182e+00, 3.03127273e+00,\n",
       "       4.04136364e+00, 5.05145455e+00, 6.06154545e+00, 7.07163636e+00,\n",
       "       8.08172727e+00, 9.09181818e+00, 1.01019091e+01, 1.11120000e+01,\n",
       "       1.21220909e+01, 1.31321818e+01, 1.41422727e+01, 1.51523636e+01,\n",
       "       1.61624545e+01, 1.71725455e+01, 1.81826364e+01, 1...\n",
       "       7.67679091e+01, 7.77780000e+01, 7.87880909e+01, 7.97981818e+01,\n",
       "       8.08082727e+01, 8.18183636e+01, 8.28284545e+01, 8.38385455e+01,\n",
       "       8.48486364e+01, 8.58587273e+01, 8.68688182e+01, 8.78789091e+01,\n",
       "       8.88890000e+01, 8.98990909e+01, 9.09091818e+01, 9.19192727e+01,\n",
       "       9.29293636e+01, 9.39394545e+01, 9.49495455e+01, 9.59596364e+01,\n",
       "       9.69697273e+01, 9.79798182e+01, 9.89899091e+01, 1.00000000e+02])},\n",
       "             return_train_score=True)"
      ]
     },
     "execution_count": 79,
     "metadata": {},
     "output_type": "execute_result"
    }
   ],
   "source": [
    "np.random.seed(0)\n",
    "%time gs_lm.fit(train_features[selected_cols], residuals)"
   ]
  },
  {
   "cell_type": "code",
   "execution_count": 80,
   "id": "636ca4aa",
   "metadata": {},
   "outputs": [
    {
     "data": {
      "text/plain": [
       "-0.014851930570850746"
      ]
     },
     "execution_count": 80,
     "metadata": {},
     "output_type": "execute_result"
    }
   ],
   "source": [
    "gs_lm.best_score_"
   ]
  },
  {
   "cell_type": "code",
   "execution_count": 81,
   "id": "ec2aa1c0",
   "metadata": {},
   "outputs": [
    {
     "data": {
      "text/plain": [
       "array([[6302.51730177]])"
      ]
     },
     "execution_count": 81,
     "metadata": {},
     "output_type": "execute_result"
    }
   ],
   "source": [
    "gs_lm.best_estimator_.coef_"
   ]
  },
  {
   "cell_type": "markdown",
   "id": "d95fbb25",
   "metadata": {},
   "source": [
    "XGBoost outcomes"
   ]
  },
  {
   "cell_type": "code",
   "execution_count": 26,
   "id": "12a6e5fe",
   "metadata": {},
   "outputs": [
    {
     "data": {
      "text/plain": [
       "0.8993437967453376"
      ]
     },
     "execution_count": 26,
     "metadata": {},
     "output_type": "execute_result"
    }
   ],
   "source": [
    "gs_xgb.best_score_"
   ]
  },
  {
   "cell_type": "code",
   "execution_count": 27,
   "id": "35f2506a",
   "metadata": {
    "scrolled": false
   },
   "outputs": [
    {
     "data": {
      "text/plain": [
       "{'eta': 0.02}"
      ]
     },
     "execution_count": 27,
     "metadata": {},
     "output_type": "execute_result"
    }
   ],
   "source": [
    "gs_xgb.best_params_"
   ]
  },
  {
   "cell_type": "code",
   "execution_count": 28,
   "id": "34455664",
   "metadata": {
    "scrolled": true
   },
   "outputs": [
    {
     "data": {
      "text/plain": [
       "ExterQual             0.289064\n",
       "OverallQual           0.202760\n",
       "TotLivArea            0.140788\n",
       "GarageCars            0.079861\n",
       "Neighborhood          0.064700\n",
       "KitchenQual           0.040763\n",
       "FullBath              0.022571\n",
       "Fireplaces            0.017234\n",
       "BsmtExposure          0.014612\n",
       "TotRmsAbvGrd          0.013670\n",
       "CentralAir            0.013066\n",
       "MSSubClass            0.010575\n",
       "LotArea               0.009415\n",
       "BldgType              0.008786\n",
       "BasementQualFactor    0.008375\n",
       "HalfBath              0.007400\n",
       "GarageQual            0.007373\n",
       "ProxPos               0.006296\n",
       "SaleCondition         0.006242\n",
       "HeatingQC             0.005926\n",
       "dtype: float32"
      ]
     },
     "execution_count": 28,
     "metadata": {},
     "output_type": "execute_result"
    }
   ],
   "source": [
    "importances = pd.Series(gs_xgb.best_estimator_.feature_importances_, index=train_features.columns).sort_values(ascending=False)\n",
    "importances[:20]"
   ]
  },
  {
   "cell_type": "markdown",
   "id": "6837a759",
   "metadata": {},
   "source": [
    "Running the model on the test dataset"
   ]
  },
  {
   "cell_type": "code",
   "execution_count": null,
   "id": "3c5ea9da",
   "metadata": {},
   "outputs": [],
   "source": [
    "pred_xgb = pd.Series(model_xgb.predict(test_features))\n",
    "prediction_xgb = pd.DataFrame({\"Id\" : test_data[\"Id\"], \"SalePrice\" : pred_xgb})\n",
    "prediction_xgb.set_index(\"Id\", inplace = True)"
   ]
  },
  {
   "cell_type": "code",
   "execution_count": null,
   "id": "c3b0da11",
   "metadata": {},
   "outputs": [],
   "source": [
    "prediction_xgb.to_csv(\"./Data/prediction_xgb.csv\")"
   ]
  },
  {
   "cell_type": "code",
   "execution_count": null,
   "id": "4ff19f97",
   "metadata": {},
   "outputs": [],
   "source": [
    "pred_rf = pd.Series(model_rf.predict(test_features))\n",
    "prediction_rf = pd.DataFrame({\"Id\" : test_data[\"Id\"], \"SalePrice\" : pred_rf})\n",
    "prediction_rf.set_index(\"Id\", inplace = True)"
   ]
  },
  {
   "cell_type": "code",
   "execution_count": null,
   "id": "888500d3",
   "metadata": {},
   "outputs": [],
   "source": [
    "prediction_rf.to_csv(\"./Data/prediction_rf.csv\")"
   ]
  },
  {
   "cell_type": "code",
   "execution_count": null,
   "id": "1b610502",
   "metadata": {},
   "outputs": [],
   "source": [
    "pred_av = (pred_xgb + pred_rf) / 2\n",
    "prediction_av = pd.DataFrame({\"Id\" : test_data[\"Id\"], \"SalePrice\" : pred_av})\n",
    "prediction_av.set_index(\"Id\", inplace = True)"
   ]
  },
  {
   "cell_type": "code",
   "execution_count": null,
   "id": "34f16af1",
   "metadata": {},
   "outputs": [],
   "source": [
    "prediction_av.to_csv(\"./Data/prediction_av.csv\")"
   ]
  },
  {
   "cell_type": "markdown",
   "id": "79094916",
   "metadata": {},
   "source": [
    "Save encoder and model for later"
   ]
  },
  {
   "cell_type": "code",
   "execution_count": null,
   "id": "22977b27",
   "metadata": {
    "scrolled": true
   },
   "outputs": [],
   "source": [
    "filename = 'fitted_model.sav'\n",
    "joblib.dump(model_xgb, filename)\n",
    "filename = 'fitted_encoder.sav'\n",
    "joblib.dump(enc, filename)"
   ]
  },
  {
   "cell_type": "code",
   "execution_count": null,
   "id": "d53f4b83",
   "metadata": {},
   "outputs": [],
   "source": [
    "train_features.to_csv(\"./Data/encoded_train_data.csv\")"
   ]
  },
  {
   "cell_type": "code",
   "execution_count": null,
   "id": "b0a62780",
   "metadata": {},
   "outputs": [],
   "source": [
    "shap_values = shap.TreeExplainer(model_xgb).shap_values(train_features)"
   ]
  },
  {
   "cell_type": "code",
   "execution_count": null,
   "id": "e4811a95",
   "metadata": {},
   "outputs": [],
   "source": [
    "shap.summary_plot(shap_values, train_features)"
   ]
  },
  {
   "cell_type": "code",
   "execution_count": null,
   "id": "b1dec542",
   "metadata": {},
   "outputs": [],
   "source": [
    "shap.dependence_plot(\"TotLivArea\", shap_values, train_features)"
   ]
  },
  {
   "cell_type": "code",
   "execution_count": null,
   "id": "8d165111",
   "metadata": {},
   "outputs": [],
   "source": [
    "shap.dependence_plot(\"OverallQual\", shap_values, train_features)"
   ]
  },
  {
   "cell_type": "code",
   "execution_count": null,
   "id": "077ffcdf",
   "metadata": {},
   "outputs": [],
   "source": [
    "shap.dependence_plot(\"LotArea\", shap_values, train_features)"
   ]
  },
  {
   "cell_type": "code",
   "execution_count": null,
   "id": "ffd626c1",
   "metadata": {},
   "outputs": [],
   "source": [
    "shap.dependence_plot(\"Neighborhood\", shap_values, train_features)"
   ]
  },
  {
   "cell_type": "code",
   "execution_count": null,
   "id": "b31032f0",
   "metadata": {},
   "outputs": [],
   "source": [
    "shap_interaction_values = shap.TreeExplainer(model_xgb).shap_interaction_values(train_features)"
   ]
  },
  {
   "cell_type": "code",
   "execution_count": null,
   "id": "3d26d382",
   "metadata": {},
   "outputs": [],
   "source": [
    "shap.summary_plot(shap_interaction_values, train_features)"
   ]
  },
  {
   "cell_type": "code",
   "execution_count": null,
   "id": "a6cfa46b",
   "metadata": {},
   "outputs": [],
   "source": [
    "shap.dependence_plot(\n",
    "    (\"TotLivArea\", \"TotLivArea\"),\n",
    "    shap_interaction_values, train_features,\n",
    "    display_features = train_features\n",
    ")"
   ]
  },
  {
   "cell_type": "code",
   "execution_count": null,
   "id": "4b99cf36",
   "metadata": {},
   "outputs": [],
   "source": [
    "shap.dependence_plot(\n",
    "    (\"TotLivArea\", \"OverallQual\"),\n",
    "    shap_interaction_values, train_features,\n",
    "    display_features = train_features\n",
    ")"
   ]
  },
  {
   "cell_type": "code",
   "execution_count": null,
   "id": "3d3855b2",
   "metadata": {},
   "outputs": [],
   "source": [
    "shap.dependence_plot(\n",
    "    (\"Neighborhood\", \"OverallQual\"),\n",
    "    shap_interaction_values, train_features,\n",
    "    display_features = train_features\n",
    ")"
   ]
  },
  {
   "cell_type": "code",
   "execution_count": null,
   "id": "f792b0d1",
   "metadata": {},
   "outputs": [],
   "source": [
    "tmp = np.abs(shap_interaction_values).sum(0)\n",
    "for i in range(tmp.shape[0]):\n",
    "    tmp[i,i] = 0\n",
    "inds = np.argsort(-tmp.sum(0))[:50]\n",
    "tmp2 = tmp[inds,:][:,inds]\n",
    "pl.figure(figsize=(12,12))\n",
    "pl.imshow(tmp2)\n",
    "pl.yticks(range(tmp2.shape[0]), train_features.columns[inds], rotation=50.4, horizontalalignment=\"right\")\n",
    "pl.xticks(range(tmp2.shape[0]), train_features.columns[inds], rotation=50.4, horizontalalignment=\"left\")\n",
    "pl.gca().xaxis.tick_top()\n",
    "pl.show()"
   ]
  },
  {
   "cell_type": "code",
   "execution_count": null,
   "id": "7b2d5afc",
   "metadata": {},
   "outputs": [],
   "source": []
  },
  {
   "cell_type": "code",
   "execution_count": null,
   "id": "0dbcf572",
   "metadata": {},
   "outputs": [],
   "source": []
  },
  {
   "cell_type": "code",
   "execution_count": null,
   "id": "bdbf87dc",
   "metadata": {},
   "outputs": [],
   "source": []
  },
  {
   "cell_type": "code",
   "execution_count": 39,
   "id": "a71002ad",
   "metadata": {},
   "outputs": [],
   "source": [
    "def heatmap(valuesDF, threshold):\n",
    "    # Make a mask to only show the lower left part of the table\n",
    "    mask = np.triu(np.ones_like(valuesDF, dtype = bool))\n",
    "\n",
    "    cmap = sns.diverging_palette(220, 20, as_cmap = True)\n",
    "\n",
    "    # Draw the heatmap with the mask and correct aspect ratio\n",
    "    visual = sns.heatmap(valuesDF, mask = mask, cmap = cmap, center = threshold,\n",
    "                square = True, linewidths = .5, annot = True);\n",
    "\n",
    "    return visual"
   ]
  },
  {
   "cell_type": "code",
   "execution_count": null,
   "id": "e40ad6d9",
   "metadata": {},
   "outputs": [],
   "source": []
  }
 ],
 "metadata": {
  "kernelspec": {
   "display_name": "Python 3",
   "language": "python",
   "name": "python3"
  },
  "language_info": {
   "codemirror_mode": {
    "name": "ipython",
    "version": 3
   },
   "file_extension": ".py",
   "mimetype": "text/x-python",
   "name": "python",
   "nbconvert_exporter": "python",
   "pygments_lexer": "ipython3",
   "version": "3.8.8"
  }
 },
 "nbformat": 4,
 "nbformat_minor": 5
}
