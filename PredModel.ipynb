{
 "cells": [
  {
   "cell_type": "markdown",
   "id": "d2054018",
   "metadata": {},
   "source": [
    "Packages"
   ]
  },
  {
   "cell_type": "code",
   "execution_count": 10,
   "id": "33369e28",
   "metadata": {},
   "outputs": [],
   "source": [
    "import pandas as pd\n",
    "import numpy as np\n",
    "from sklearn.ensemble import RandomForestRegressor\n",
    "from sklearn.model_selection import GridSearchCV\n",
    "from sklearn.linear_model import Ridge\n",
    "from sklearn.model_selection import train_test_split\n",
    "from sklearn.preprocessing import LabelEncoder\n",
    "from xgboost import XGBRegressor\n",
    "import joblib\n",
    "import matplotlib.pylab as pl\n",
    "import seaborn as sns\n",
    "import shap\n",
    "from scipy.stats import pearsonr"
   ]
  },
  {
   "cell_type": "code",
   "execution_count": 11,
   "id": "bf7e4b50",
   "metadata": {},
   "outputs": [],
   "source": [
    "rand_seed = 0"
   ]
  },
  {
   "cell_type": "markdown",
   "id": "4e75cda0",
   "metadata": {},
   "source": [
    "Reading the data"
   ]
  },
  {
   "cell_type": "code",
   "execution_count": 12,
   "id": "90808023",
   "metadata": {},
   "outputs": [],
   "source": [
    "train_data = pd.read_csv(\"./Data/cleaned_train.csv\")\n",
    "test_data = pd.read_csv(\"./Data/cleaned_test.csv\")\n",
    "target = pd.read_csv(\"./Data/cleaned_target.csv\")\n",
    "\n",
    "target.set_index(\"Id\", inplace = True)"
   ]
  },
  {
   "cell_type": "markdown",
   "id": "b146c15d",
   "metadata": {},
   "source": [
    "Label encoding the features"
   ]
  },
  {
   "cell_type": "code",
   "execution_count": 13,
   "id": "0bd6f334",
   "metadata": {},
   "outputs": [],
   "source": [
    "enc = LabelEncoder()\n",
    "train_result = {}\n",
    "test_result = {}\n",
    "for col in train_data.columns:\n",
    "    if (train_data[col].dtype == \"int\" or train_data[col].dtype == \"float\"):\n",
    "        train_result[col] = train_data[col]\n",
    "        test_result[col] = test_data[col]\n",
    "    else:\n",
    "        train_result[col] = pd.Series(enc.fit_transform(train_data[col]))\n",
    "        test_result[col] = pd.Series(enc.transform(test_data[col]))\n",
    "train_features = pd.DataFrame(train_result)\n",
    "test_features = pd.DataFrame(test_result)\n",
    "\n",
    "train_features.set_index(\"Id\", inplace = True)\n",
    "test_features.set_index(\"Id\", inplace = True)"
   ]
  },
  {
   "cell_type": "markdown",
   "id": "0f6dd2a7",
   "metadata": {},
   "source": [
    "XGBoost with early stopping"
   ]
  },
  {
   "cell_type": "code",
   "execution_count": 14,
   "id": "9f849097",
   "metadata": {},
   "outputs": [],
   "source": [
    "np.random.seed(rand_seed)\n",
    "train_features_grid, train_features_validation, target_grid, target_validation = train_test_split(train_features, target, test_size = 0.1)"
   ]
  },
  {
   "cell_type": "code",
   "execution_count": 15,
   "id": "2491cf34",
   "metadata": {},
   "outputs": [],
   "source": [
    "xgb = XGBRegressor(n_jobs = -1, booster = \"gbtree\", n_estimators = 1000, colsample_bytree = 0.5)\n",
    "eta_range = np.linspace(0.01, 0.5, 50, endpoint = True)\n",
    "max_depth_range = range(1, 7)\n",
    "xgb_params = {'max_depth': max_depth_range, 'eta': eta_range}\n",
    "gs_xgb = GridSearchCV(xgb, xgb_params, cv = 10, return_train_score = True)"
   ]
  },
  {
   "cell_type": "code",
   "execution_count": 16,
   "id": "19a64e3c",
   "metadata": {},
   "outputs": [
    {
     "name": "stdout",
     "output_type": "stream",
     "text": [
      "CPU times: user 46min 55s, sys: 4min 13s, total: 51min 8s\n",
      "Wall time: 6min 32s\n"
     ]
    },
    {
     "data": {
      "text/plain": [
       "GridSearchCV(cv=10,\n",
       "             estimator=XGBRegressor(base_score=None, booster='gbtree',\n",
       "                                    colsample_bylevel=None,\n",
       "                                    colsample_bynode=None, colsample_bytree=0.5,\n",
       "                                    gamma=None, gpu_id=None,\n",
       "                                    importance_type='gain',\n",
       "                                    interaction_constraints=None,\n",
       "                                    learning_rate=None, max_delta_step=None,\n",
       "                                    max_depth=None, min_child_weight=None,\n",
       "                                    missing=nan, monotone_constraints=None,\n",
       "                                    n_estimators=1000, n_...\n",
       "                                    tree_method=None, validate_parameters=None,\n",
       "                                    verbosity=None),\n",
       "             param_grid={'eta': array([0.01, 0.02, 0.03, 0.04, 0.05, 0.06, 0.07, 0.08, 0.09, 0.1 , 0.11,\n",
       "       0.12, 0.13, 0.14, 0.15, 0.16, 0.17, 0.18, 0.19, 0.2 , 0.21, 0.22,\n",
       "       0.23, 0.24, 0.25, 0.26, 0.27, 0.28, 0.29, 0.3 , 0.31, 0.32, 0.33,\n",
       "       0.34, 0.35, 0.36, 0.37, 0.38, 0.39, 0.4 , 0.41, 0.42, 0.43, 0.44,\n",
       "       0.45, 0.46, 0.47, 0.48, 0.49, 0.5 ]),\n",
       "                         'max_depth': range(1, 7)},\n",
       "             return_train_score=True)"
      ]
     },
     "execution_count": 16,
     "metadata": {},
     "output_type": "execute_result"
    }
   ],
   "source": [
    "np.random.seed(rand_seed)\n",
    "fit_params={\"early_stopping_rounds\" : 20, \n",
    "            \"eval_metric\" : \"mae\", \n",
    "            \"eval_set\" : [[train_features_validation, target_validation]]}\n",
    "%time gs_xgb.fit(train_features_grid, target_grid,verbose = 0, **fit_params)"
   ]
  },
  {
   "cell_type": "code",
   "execution_count": 17,
   "id": "2a8a9c78",
   "metadata": {
    "scrolled": true
   },
   "outputs": [
    {
     "data": {
      "text/plain": [
       "0.9089025196588716"
      ]
     },
     "execution_count": 17,
     "metadata": {},
     "output_type": "execute_result"
    }
   ],
   "source": [
    "gs_xgb.best_score_"
   ]
  },
  {
   "cell_type": "markdown",
   "id": "d6244ed0",
   "metadata": {},
   "source": [
    "Second round, narrowing in on eta"
   ]
  },
  {
   "cell_type": "code",
   "execution_count": 18,
   "id": "12a1b6cf",
   "metadata": {},
   "outputs": [],
   "source": [
    "xgb = XGBRegressor(n_jobs = -1, booster = \"gbtree\", n_estimators = 1000, colsample_bytree = 0.5, max_depth = gs_xgb.best_params_[\"max_depth\"])\n",
    "eta_mid = gs_xgb.best_params_[\"eta\"]\n",
    "eta_range = np.linspace(eta_mid - 0.01, eta_mid + 0.01, 200, endpoint = False)\n",
    "xgb_params = {'eta': eta_range}\n",
    "gs_xgb = GridSearchCV(xgb, xgb_params, cv = 10, return_train_score = True)"
   ]
  },
  {
   "cell_type": "code",
   "execution_count": 19,
   "id": "d75ba063",
   "metadata": {},
   "outputs": [
    {
     "name": "stdout",
     "output_type": "stream",
     "text": [
      "CPU times: user 25min 40s, sys: 2min 14s, total: 27min 54s\n",
      "Wall time: 3min 32s\n"
     ]
    },
    {
     "data": {
      "text/plain": [
       "GridSearchCV(cv=10,\n",
       "             estimator=XGBRegressor(base_score=None, booster='gbtree',\n",
       "                                    colsample_bylevel=None,\n",
       "                                    colsample_bynode=None, colsample_bytree=0.5,\n",
       "                                    gamma=None, gpu_id=None,\n",
       "                                    importance_type='gain',\n",
       "                                    interaction_constraints=None,\n",
       "                                    learning_rate=None, max_delta_step=None,\n",
       "                                    max_depth=3, min_child_weight=None,\n",
       "                                    missing=nan, monotone_constraints=None,\n",
       "                                    n_estimators=1000, n_job...\n",
       "       0.1652, 0.1653, 0.1654, 0.1655, 0.1656, 0.1657, 0.1658, 0.1659,\n",
       "       0.166 , 0.1661, 0.1662, 0.1663, 0.1664, 0.1665, 0.1666, 0.1667,\n",
       "       0.1668, 0.1669, 0.167 , 0.1671, 0.1672, 0.1673, 0.1674, 0.1675,\n",
       "       0.1676, 0.1677, 0.1678, 0.1679, 0.168 , 0.1681, 0.1682, 0.1683,\n",
       "       0.1684, 0.1685, 0.1686, 0.1687, 0.1688, 0.1689, 0.169 , 0.1691,\n",
       "       0.1692, 0.1693, 0.1694, 0.1695, 0.1696, 0.1697, 0.1698, 0.1699])},\n",
       "             return_train_score=True)"
      ]
     },
     "execution_count": 19,
     "metadata": {},
     "output_type": "execute_result"
    }
   ],
   "source": [
    "np.random.seed(rand_seed)\n",
    "fit_params={\"early_stopping_rounds\" : 20, \n",
    "            \"eval_metric\" : \"mae\", \n",
    "            \"eval_set\" : [[train_features_validation, target_validation]]}\n",
    "%time gs_xgb.fit(train_features_grid, target_grid,verbose = 0, **fit_params)"
   ]
  },
  {
   "cell_type": "code",
   "execution_count": 20,
   "id": "a393dc8c",
   "metadata": {},
   "outputs": [
    {
     "data": {
      "text/plain": [
       "0.9099893308585669"
      ]
     },
     "execution_count": 20,
     "metadata": {},
     "output_type": "execute_result"
    }
   ],
   "source": [
    "gs_xgb.best_score_"
   ]
  },
  {
   "cell_type": "markdown",
   "id": "9a5657d5",
   "metadata": {},
   "source": [
    "Reducing feature space"
   ]
  },
  {
   "cell_type": "code",
   "execution_count": null,
   "id": "0aa234cb",
   "metadata": {},
   "outputs": [],
   "source": [
    "importances = pd.Series(gs_xgb.best_estimator_.feature_importances_, index=train_features.columns).sort_values(ascending=False)\n",
    "mask = (importances > 0.01)\n",
    "selected_cols = importances[mask].index\n",
    "selected_cols"
   ]
  },
  {
   "cell_type": "code",
   "execution_count": null,
   "id": "a94857d0",
   "metadata": {},
   "outputs": [],
   "source": [
    "train_features_grid, train_features_validation, target_grid, target_validation = train_test_split(train_features, target, test_size = 0.1)"
   ]
  },
  {
   "cell_type": "code",
   "execution_count": null,
   "id": "2fedc0e4",
   "metadata": {},
   "outputs": [],
   "source": [
    "np.random.seed(0)\n",
    "fit_params={\"early_stopping_rounds\" : 10, \n",
    "            \"eval_metric\" : \"mae\", \n",
    "            \"eval_set\" : [[train_features_validation[selected_cols], target_validation]]}\n",
    "%time gs_xgb.fit(train_features_grid[selected_cols], target_grid,verbose = 0, **fit_params)"
   ]
  },
  {
   "cell_type": "code",
   "execution_count": null,
   "id": "764670be",
   "metadata": {},
   "outputs": [],
   "source": [
    "gs_xgb.best_score_"
   ]
  },
  {
   "cell_type": "markdown",
   "id": "afa9b08d",
   "metadata": {},
   "source": [
    "Fitting the residuals"
   ]
  },
  {
   "cell_type": "code",
   "execution_count": null,
   "id": "c231cc18",
   "metadata": {},
   "outputs": [],
   "source": [
    "model_xgb = gs_xgb.best_estimator_\n",
    "predvalues_train_xgb = pd.Series(model_xgb.predict(train_features))\n",
    "prediction_train_xgb = pd.DataFrame({\"Id\" : train_data[\"Id\"], \"SalePrice\" : predvalues_train_xgb})\n",
    "prediction_train_xgb.set_index(\"Id\", inplace = True)\n",
    "residuals = target - prediction_train_xgb"
   ]
  },
  {
   "cell_type": "code",
   "execution_count": null,
   "id": "c987850d",
   "metadata": {},
   "outputs": [],
   "source": [
    "lm = Ridge()\n",
    "lm_params = {\"alpha\" : np.linspace(0.001, 100, 100)}\n",
    "gs_lm = GridSearchCV(lm, lm_params, cv = 10, return_train_score = True)"
   ]
  },
  {
   "cell_type": "code",
   "execution_count": null,
   "id": "d2e99663",
   "metadata": {},
   "outputs": [],
   "source": [
    "def resid_correl(col):\n",
    "    return pearsonr(residuals[\"SalePrice\"], col)[0]"
   ]
  },
  {
   "cell_type": "code",
   "execution_count": null,
   "id": "34a5e1ee",
   "metadata": {},
   "outputs": [],
   "source": [
    "correlations = [resid_correl(train_features[col]) for col in train_features.columns]\n",
    "sorted_correlations = pd.Series(correlations, index=train_features.columns).sort_values(ascending=False)\n",
    "mask = (sorted_correlations > 0.25) | (sorted_correlations < -0.25)\n",
    "selected_cols = sorted_correlations[mask].index"
   ]
  },
  {
   "cell_type": "code",
   "execution_count": null,
   "id": "5bc79889",
   "metadata": {},
   "outputs": [],
   "source": [
    "np.random.seed(0)\n",
    "%time gs_lm.fit(train_features[selected_cols], residuals)"
   ]
  },
  {
   "cell_type": "code",
   "execution_count": null,
   "id": "dea19461",
   "metadata": {},
   "outputs": [],
   "source": [
    "gs_lm.best_score_"
   ]
  },
  {
   "cell_type": "code",
   "execution_count": null,
   "id": "9cc75433",
   "metadata": {},
   "outputs": [],
   "source": [
    "gs_lm.best_estimator_.coef_"
   ]
  },
  {
   "cell_type": "markdown",
   "id": "d95fbb25",
   "metadata": {},
   "source": [
    "XGBoost outcomes"
   ]
  },
  {
   "cell_type": "code",
   "execution_count": 21,
   "id": "35f2506a",
   "metadata": {
    "scrolled": false
   },
   "outputs": [
    {
     "data": {
      "text/plain": [
       "{'eta': 0.1522}"
      ]
     },
     "execution_count": 21,
     "metadata": {},
     "output_type": "execute_result"
    }
   ],
   "source": [
    "gs_xgb.best_params_"
   ]
  },
  {
   "cell_type": "code",
   "execution_count": 22,
   "id": "34455664",
   "metadata": {
    "scrolled": true
   },
   "outputs": [
    {
     "data": {
      "text/plain": [
       "OverallQual      0.199939\n",
       "KitchenQual      0.150754\n",
       "GarageCars       0.107551\n",
       "TotLivArea       0.100673\n",
       "FullBath         0.066034\n",
       "Neighborhood     0.051939\n",
       "ExterQual        0.044741\n",
       "BsmtExposure     0.037658\n",
       "CentralAir       0.035097\n",
       "HeatingQC        0.028861\n",
       "Fireplaces       0.028569\n",
       "TotRmsAbvGrd     0.016685\n",
       "MSZoning         0.011873\n",
       "ProxPos          0.011449\n",
       "HalfBath         0.010504\n",
       "AgeBuilt         0.009958\n",
       "LotArea          0.009160\n",
       "MSSubClass       0.008440\n",
       "SaleCondition    0.007836\n",
       "OverallCond      0.006977\n",
       "dtype: float32"
      ]
     },
     "execution_count": 22,
     "metadata": {},
     "output_type": "execute_result"
    }
   ],
   "source": [
    "importances = pd.Series(gs_xgb.best_estimator_.feature_importances_, index=train_features.columns).sort_values(ascending=False)\n",
    "importances[:20]"
   ]
  },
  {
   "cell_type": "markdown",
   "id": "6837a759",
   "metadata": {},
   "source": [
    "Running the model on the test dataset"
   ]
  },
  {
   "cell_type": "code",
   "execution_count": 24,
   "id": "9db8c101",
   "metadata": {},
   "outputs": [],
   "source": [
    "model_xgb = gs_xgb.best_estimator_"
   ]
  },
  {
   "cell_type": "code",
   "execution_count": 25,
   "id": "3c5ea9da",
   "metadata": {},
   "outputs": [],
   "source": [
    "pred_xgb = pd.Series(model_xgb.predict(test_features))\n",
    "prediction_xgb = pd.DataFrame({\"Id\" : test_data[\"Id\"], \"SalePrice\" : pred_xgb})\n",
    "prediction_xgb.set_index(\"Id\", inplace = True)"
   ]
  },
  {
   "cell_type": "code",
   "execution_count": 26,
   "id": "c3b0da11",
   "metadata": {},
   "outputs": [],
   "source": [
    "prediction_xgb.to_csv(\"./Data/prediction_xgb.csv\")"
   ]
  },
  {
   "cell_type": "markdown",
   "id": "79094916",
   "metadata": {},
   "source": [
    "Save encoder and model for later"
   ]
  },
  {
   "cell_type": "code",
   "execution_count": null,
   "id": "22977b27",
   "metadata": {
    "scrolled": true
   },
   "outputs": [],
   "source": [
    "filename = 'fitted_model.sav'\n",
    "joblib.dump(model_xgb, filename)\n",
    "filename = 'fitted_encoder.sav'\n",
    "joblib.dump(enc, filename)"
   ]
  },
  {
   "cell_type": "code",
   "execution_count": null,
   "id": "d53f4b83",
   "metadata": {},
   "outputs": [],
   "source": [
    "train_features.to_csv(\"./Data/encoded_train_data.csv\")"
   ]
  },
  {
   "cell_type": "code",
   "execution_count": null,
   "id": "b0a62780",
   "metadata": {},
   "outputs": [],
   "source": [
    "shap_values = shap.TreeExplainer(model_xgb).shap_values(train_features)"
   ]
  },
  {
   "cell_type": "code",
   "execution_count": null,
   "id": "e4811a95",
   "metadata": {},
   "outputs": [],
   "source": [
    "shap.summary_plot(shap_values, train_features)"
   ]
  },
  {
   "cell_type": "code",
   "execution_count": null,
   "id": "b1dec542",
   "metadata": {},
   "outputs": [],
   "source": [
    "shap.dependence_plot(\"TotLivArea\", shap_values, train_features)"
   ]
  },
  {
   "cell_type": "code",
   "execution_count": null,
   "id": "8d165111",
   "metadata": {},
   "outputs": [],
   "source": [
    "shap.dependence_plot(\"OverallQual\", shap_values, train_features)"
   ]
  },
  {
   "cell_type": "code",
   "execution_count": null,
   "id": "077ffcdf",
   "metadata": {},
   "outputs": [],
   "source": [
    "shap.dependence_plot(\"LotArea\", shap_values, train_features)"
   ]
  },
  {
   "cell_type": "code",
   "execution_count": null,
   "id": "ffd626c1",
   "metadata": {},
   "outputs": [],
   "source": [
    "shap.dependence_plot(\"Neighborhood\", shap_values, train_features)"
   ]
  },
  {
   "cell_type": "code",
   "execution_count": null,
   "id": "b31032f0",
   "metadata": {},
   "outputs": [],
   "source": [
    "shap_interaction_values = shap.TreeExplainer(model_xgb).shap_interaction_values(train_features)"
   ]
  },
  {
   "cell_type": "code",
   "execution_count": null,
   "id": "3d26d382",
   "metadata": {},
   "outputs": [],
   "source": [
    "shap.summary_plot(shap_interaction_values, train_features)"
   ]
  },
  {
   "cell_type": "code",
   "execution_count": null,
   "id": "a6cfa46b",
   "metadata": {},
   "outputs": [],
   "source": [
    "shap.dependence_plot(\n",
    "    (\"TotLivArea\", \"TotLivArea\"),\n",
    "    shap_interaction_values, train_features,\n",
    "    display_features = train_features\n",
    ")"
   ]
  },
  {
   "cell_type": "code",
   "execution_count": null,
   "id": "4b99cf36",
   "metadata": {},
   "outputs": [],
   "source": [
    "shap.dependence_plot(\n",
    "    (\"TotLivArea\", \"OverallQual\"),\n",
    "    shap_interaction_values, train_features,\n",
    "    display_features = train_features\n",
    ")"
   ]
  },
  {
   "cell_type": "code",
   "execution_count": null,
   "id": "3d3855b2",
   "metadata": {},
   "outputs": [],
   "source": [
    "shap.dependence_plot(\n",
    "    (\"Neighborhood\", \"OverallQual\"),\n",
    "    shap_interaction_values, train_features,\n",
    "    display_features = train_features\n",
    ")"
   ]
  },
  {
   "cell_type": "code",
   "execution_count": null,
   "id": "f792b0d1",
   "metadata": {},
   "outputs": [],
   "source": [
    "tmp = np.abs(shap_interaction_values).sum(0)\n",
    "for i in range(tmp.shape[0]):\n",
    "    tmp[i,i] = 0\n",
    "inds = np.argsort(-tmp.sum(0))[:50]\n",
    "tmp2 = tmp[inds,:][:,inds]\n",
    "pl.figure(figsize=(12,12))\n",
    "pl.imshow(tmp2)\n",
    "pl.yticks(range(tmp2.shape[0]), train_features.columns[inds], rotation=50.4, horizontalalignment=\"right\")\n",
    "pl.xticks(range(tmp2.shape[0]), train_features.columns[inds], rotation=50.4, horizontalalignment=\"left\")\n",
    "pl.gca().xaxis.tick_top()\n",
    "pl.show()"
   ]
  },
  {
   "cell_type": "code",
   "execution_count": null,
   "id": "7b2d5afc",
   "metadata": {},
   "outputs": [],
   "source": []
  },
  {
   "cell_type": "code",
   "execution_count": null,
   "id": "c2bbceec",
   "metadata": {},
   "outputs": [],
   "source": []
  },
  {
   "cell_type": "code",
   "execution_count": null,
   "id": "1394d847",
   "metadata": {},
   "outputs": [],
   "source": []
  },
  {
   "cell_type": "code",
   "execution_count": null,
   "id": "b20d1afc",
   "metadata": {},
   "outputs": [],
   "source": [
    "def heatmap(valuesDF, threshold):\n",
    "    # Make a mask to only show the lower left part of the table\n",
    "    mask = np.triu(np.ones_like(valuesDF, dtype = bool))\n",
    "\n",
    "    cmap = sns.diverging_palette(220, 20, as_cmap = True)\n",
    "\n",
    "    # Draw the heatmap with the mask and correct aspect ratio\n",
    "    visual = sns.heatmap(valuesDF, mask = mask, cmap = cmap, center = threshold,\n",
    "                square = True, linewidths = .5, annot = True);\n",
    "\n",
    "    return visual"
   ]
  },
  {
   "cell_type": "code",
   "execution_count": null,
   "id": "500a5f40",
   "metadata": {},
   "outputs": [],
   "source": []
  }
 ],
 "metadata": {
  "kernelspec": {
   "display_name": "Python 3",
   "language": "python",
   "name": "python3"
  },
  "language_info": {
   "codemirror_mode": {
    "name": "ipython",
    "version": 3
   },
   "file_extension": ".py",
   "mimetype": "text/x-python",
   "name": "python",
   "nbconvert_exporter": "python",
   "pygments_lexer": "ipython3",
   "version": "3.8.8"
  }
 },
 "nbformat": 4,
 "nbformat_minor": 5
}
