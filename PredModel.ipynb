{
 "cells": [
  {
   "cell_type": "markdown",
   "id": "d2054018",
   "metadata": {},
   "source": [
    "Packages"
   ]
  },
  {
   "cell_type": "code",
   "execution_count": 1,
   "id": "50f4f9cc",
   "metadata": {},
   "outputs": [],
   "source": [
    "import pandas as pd\n",
    "import numpy as np\n",
    "from sklearn.ensemble import RandomForestRegressor\n",
    "from sklearn.model_selection import GridSearchCV\n",
    "from sklearn.model_selection import train_test_split\n",
    "from sklearn.preprocessing import LabelEncoder\n",
    "from xgboost import XGBRegressor\n",
    "import joblib"
   ]
  },
  {
   "cell_type": "markdown",
   "id": "4e75cda0",
   "metadata": {},
   "source": [
    "Reading the data"
   ]
  },
  {
   "cell_type": "code",
   "execution_count": 140,
   "id": "90808023",
   "metadata": {},
   "outputs": [],
   "source": [
    "train_data = pd.read_csv(\"./Data/cleaned_train.csv\")\n",
    "test_data = pd.read_csv(\"./Data/cleaned_test.csv\")\n",
    "target = pd.read_csv(\"./Data/cleaned_target.csv\")\n",
    "\n",
    "target.set_index(\"Id\", inplace = True)"
   ]
  },
  {
   "cell_type": "markdown",
   "id": "b146c15d",
   "metadata": {},
   "source": [
    "Label encoding the features"
   ]
  },
  {
   "cell_type": "code",
   "execution_count": 141,
   "id": "0bd6f334",
   "metadata": {},
   "outputs": [],
   "source": [
    "enc = LabelEncoder()\n",
    "train_result = {}\n",
    "test_result = {}\n",
    "for col in train_data.columns:\n",
    "    if (train_data[col].dtype == \"int\" or train_data[col].dtype == \"float\"):\n",
    "        train_result[col] = train_data[col]\n",
    "        test_result[col] = test_data[col]\n",
    "    else:\n",
    "        train_result[col] = pd.Series(enc.fit_transform(train_data[col]))\n",
    "        test_result[col] = pd.Series(enc.transform(test_data[col]))\n",
    "train_features = pd.DataFrame(train_result)\n",
    "test_features = pd.DataFrame(test_result)\n",
    "\n",
    "train_features.set_index(\"Id\", inplace = True)\n",
    "test_features.set_index(\"Id\", inplace = True)"
   ]
  },
  {
   "cell_type": "code",
   "execution_count": 142,
   "id": "f0129de5",
   "metadata": {},
   "outputs": [
    {
     "data": {
      "text/plain": [
       "Index(['Id', 'LotArea', 'OverallQual', 'GarageCars', 'YearBuilt',\n",
       "       'TotRmsAbvGrd', 'OverallCond', 'MSSubClass', 'LotShape', 'LotConfig',\n",
       "       'Neighborhood', 'YrSold', 'KitchenQual', 'ExterQual', 'ExterCond',\n",
       "       'HeatingQC', 'Fence', 'BldgType', 'Functional', 'TotLivArea',\n",
       "       'FullBath', 'HalfBath', 'PorchSF', 'ProxPos', 'ProxRoad', 'ProxRail'],\n",
       "      dtype='object')"
      ]
     },
     "execution_count": 142,
     "metadata": {},
     "output_type": "execute_result"
    }
   ],
   "source": [
    "train_data.columns"
   ]
  },
  {
   "cell_type": "markdown",
   "id": "e49acfda",
   "metadata": {},
   "source": [
    "Random Forest"
   ]
  },
  {
   "cell_type": "code",
   "execution_count": 88,
   "id": "2a18dcfd",
   "metadata": {},
   "outputs": [],
   "source": [
    "rf = RandomForestRegressor(n_jobs = -1, n_estimators = 140)\n",
    "rf_params = {'max_features': range(3,10), 'max_depth': range(1, 9), 'min_samples_leaf': [7, 14, 70, 140]}\n",
    "gs_rf = GridSearchCV(rf, rf_params, cv = 10, return_train_score = True)"
   ]
  },
  {
   "cell_type": "code",
   "execution_count": 89,
   "id": "1c0bf0cc",
   "metadata": {},
   "outputs": [
    {
     "name": "stdout",
     "output_type": "stream",
     "text": [
      "CPU times: user 3min 53s, sys: 27.2 s, total: 4min 20s\n",
      "Wall time: 4min 8s\n"
     ]
    },
    {
     "data": {
      "text/plain": [
       "GridSearchCV(cv=10,\n",
       "             estimator=RandomForestRegressor(n_estimators=140, n_jobs=-1),\n",
       "             param_grid={'max_depth': range(1, 9), 'max_features': range(3, 10),\n",
       "                         'min_samples_leaf': [7, 14, 70, 140]},\n",
       "             return_train_score=True)"
      ]
     },
     "execution_count": 89,
     "metadata": {},
     "output_type": "execute_result"
    }
   ],
   "source": [
    "np.random.seed(0)\n",
    "%time gs_rf.fit(train_features, target['SalePrice'])"
   ]
  },
  {
   "cell_type": "code",
   "execution_count": 90,
   "id": "83544aed",
   "metadata": {},
   "outputs": [
    {
     "data": {
      "text/plain": [
       "0.8482345761570352"
      ]
     },
     "execution_count": 90,
     "metadata": {},
     "output_type": "execute_result"
    }
   ],
   "source": [
    "gs_rf.best_score_"
   ]
  },
  {
   "cell_type": "code",
   "execution_count": 91,
   "id": "8320c133",
   "metadata": {},
   "outputs": [
    {
     "data": {
      "text/plain": [
       "{'max_depth': 8, 'max_features': 4, 'min_samples_leaf': 7}"
      ]
     },
     "execution_count": 91,
     "metadata": {},
     "output_type": "execute_result"
    }
   ],
   "source": [
    "gs_rf.best_params_"
   ]
  },
  {
   "cell_type": "code",
   "execution_count": 93,
   "id": "ec4f1fdc",
   "metadata": {
    "scrolled": true
   },
   "outputs": [
    {
     "data": {
      "text/plain": [
       "TotLivArea      0.349021\n",
       "OverallQual     0.280249\n",
       "GarageCars      0.121423\n",
       "KitchenQual     0.079766\n",
       "YearBuilt       0.070614\n",
       "LotArea         0.045688\n",
       "TotRmsAbvGrd    0.031019\n",
       "FullBath        0.010442\n",
       "YrSold          0.005473\n",
       "HalfBath        0.005005\n",
       "dtype: float64"
      ]
     },
     "execution_count": 93,
     "metadata": {},
     "output_type": "execute_result"
    }
   ],
   "source": [
    "importances = pd.Series(gs_rf.best_estimator_.feature_importances_, index=train_features.columns).sort_values(ascending=False)\n",
    "importances[:10]"
   ]
  },
  {
   "cell_type": "code",
   "execution_count": 97,
   "id": "4d1b9bc7",
   "metadata": {},
   "outputs": [],
   "source": [
    "model_rf = gs_rf.best_estimator_"
   ]
  },
  {
   "cell_type": "markdown",
   "id": "51c116a6",
   "metadata": {},
   "source": [
    "XGBoost with early stopping"
   ]
  },
  {
   "cell_type": "code",
   "execution_count": null,
   "id": "9cb9bb1a",
   "metadata": {},
   "outputs": [],
   "source": [
    "train_features_grid, train_features_validation, target_grid, target_validation = train_test_split(train_features, target, test_size = 0.2)"
   ]
  },
  {
   "cell_type": "code",
   "execution_count": null,
   "id": "2491cf34",
   "metadata": {},
   "outputs": [],
   "source": [
    "xgb = XGBRegressor(n_jobs = -1, n_estimators = 1000)\n",
    "xgb_params = {'max_depth': range(1, 6), 'eta': np.linspace(0.0001, 0.5, num = 50, endpoint = True)}\n",
    "gs_xgb = GridSearchCV(xgb, xgb_params, cv = 10, return_train_score = True)"
   ]
  },
  {
   "cell_type": "code",
   "execution_count": null,
   "id": "19a64e3c",
   "metadata": {},
   "outputs": [],
   "source": [
    "np.random.seed(0)\n",
    "fit_params={\"early_stopping_rounds\":10, \n",
    "            \"eval_metric\" : \"mae\", \n",
    "            \"eval_set\" : [[train_features_validation, target_validation]]}\n",
    "%time gs_xgb.fit(train_features_grid, target_grid,verbose = 0, **fit_params)"
   ]
  },
  {
   "cell_type": "markdown",
   "id": "3d70240c",
   "metadata": {},
   "source": [
    "XGBoost without early stopping"
   ]
  },
  {
   "cell_type": "code",
   "execution_count": 132,
   "id": "c3d63c30",
   "metadata": {},
   "outputs": [],
   "source": [
    "xgb = XGBRegressor(n_jobs = -1, booster = \"gbtree\")\n",
    "eta = np.linspace(0.0001, 0.5, num = 10, endpoint = True)\n",
    "n_estimators = [25 * i for i in range(1,13)]\n",
    "xgb_params = {'max_depth': range(2, 6), 'eta': eta, 'n_estimators' : n_estimators}\n",
    "gs_xgb = GridSearchCV(xgb, xgb_params, cv = 5, return_train_score = True)"
   ]
  },
  {
   "cell_type": "code",
   "execution_count": null,
   "id": "6cf2d3f5",
   "metadata": {},
   "outputs": [],
   "source": [
    "np.random.seed(0)\n",
    "%time gs_xgb.fit(train_features, target, verbose = 0)"
   ]
  },
  {
   "cell_type": "markdown",
   "id": "a3066f85",
   "metadata": {},
   "source": [
    "XGBoost outcomes"
   ]
  },
  {
   "cell_type": "code",
   "execution_count": 134,
   "id": "12a6e5fe",
   "metadata": {},
   "outputs": [
    {
     "data": {
      "text/plain": [
       "0.8666272741374355"
      ]
     },
     "execution_count": 134,
     "metadata": {},
     "output_type": "execute_result"
    }
   ],
   "source": [
    "gs_xgb.best_score_"
   ]
  },
  {
   "cell_type": "code",
   "execution_count": 135,
   "id": "35f2506a",
   "metadata": {
    "scrolled": false
   },
   "outputs": [
    {
     "data": {
      "text/plain": [
       "{'eta': 0.22227777777777777, 'max_depth': 2, 'n_estimators': 225}"
      ]
     },
     "execution_count": 135,
     "metadata": {},
     "output_type": "execute_result"
    }
   ],
   "source": [
    "gs_xgb.best_params_"
   ]
  },
  {
   "cell_type": "code",
   "execution_count": 136,
   "id": "2cce5f85",
   "metadata": {
    "scrolled": true
   },
   "outputs": [
    {
     "data": {
      "text/plain": [
       "OverallQual     0.411811\n",
       "GarageCars      0.193343\n",
       "KitchenQual     0.088963\n",
       "TotLivArea      0.075533\n",
       "ExterQual       0.054579\n",
       "TotRmsAbvGrd    0.027472\n",
       "LotArea         0.020413\n",
       "YearBuilt       0.020058\n",
       "HalfBath        0.016944\n",
       "MSSubClass      0.016129\n",
       "OverallCond     0.012560\n",
       "BldgType        0.011847\n",
       "Neighborhood    0.010533\n",
       "FullBath        0.009533\n",
       "LotShape        0.009362\n",
       "PorchSF         0.004994\n",
       "YrSold          0.004358\n",
       "HeatingQC       0.003800\n",
       "Functional      0.002851\n",
       "LotConfig       0.002528\n",
       "dtype: float32"
      ]
     },
     "execution_count": 136,
     "metadata": {},
     "output_type": "execute_result"
    }
   ],
   "source": [
    "importances = pd.Series(gs_xgb.best_estimator_.feature_importances_, index=train_features.columns).sort_values(ascending=False)\n",
    "importances[:20]"
   ]
  },
  {
   "cell_type": "code",
   "execution_count": 95,
   "id": "a02ea049",
   "metadata": {},
   "outputs": [],
   "source": [
    "model_xgb = gs_xgb.best_estimator_"
   ]
  },
  {
   "cell_type": "markdown",
   "id": "5fba1183",
   "metadata": {},
   "source": [
    "Running the model on the test dataset"
   ]
  },
  {
   "cell_type": "code",
   "execution_count": 102,
   "id": "3565afa3",
   "metadata": {},
   "outputs": [],
   "source": [
    "pred_xgb = pd.Series(model_xgb.predict(test_features))\n",
    "prediction_xgb = pd.DataFrame({\"Id\" : test_data[\"Id\"], \"SalePrice\" : pred_xgb})\n",
    "prediction_xgb.set_index(\"Id\", inplace = True)"
   ]
  },
  {
   "cell_type": "code",
   "execution_count": 103,
   "id": "bf8d81a2",
   "metadata": {},
   "outputs": [],
   "source": [
    "prediction_xgb.to_csv(\"./Data/prediction_xgb.csv\")"
   ]
  },
  {
   "cell_type": "code",
   "execution_count": 104,
   "id": "64b18817",
   "metadata": {},
   "outputs": [],
   "source": [
    "pred_rf = pd.Series(model_rf.predict(test_features))\n",
    "prediction_rf = pd.DataFrame({\"Id\" : test_data[\"Id\"], \"SalePrice\" : pred_rf})\n",
    "prediction_rf.set_index(\"Id\", inplace = True)"
   ]
  },
  {
   "cell_type": "code",
   "execution_count": 105,
   "id": "7f098be1",
   "metadata": {},
   "outputs": [],
   "source": [
    "prediction_rf.to_csv(\"./Data/prediction_rf.csv\")"
   ]
  },
  {
   "cell_type": "code",
   "execution_count": 107,
   "id": "f9b56842",
   "metadata": {},
   "outputs": [],
   "source": [
    "pred_av = (pred_xgb + pred_rf) / 2\n",
    "prediction_av = pd.DataFrame({\"Id\" : test_data[\"Id\"], \"SalePrice\" : pred_av})\n",
    "prediction_av.set_index(\"Id\", inplace = True)"
   ]
  },
  {
   "cell_type": "code",
   "execution_count": 108,
   "id": "51997e95",
   "metadata": {},
   "outputs": [],
   "source": [
    "prediction_av.to_csv(\"./Data/prediction_av.csv\")"
   ]
  },
  {
   "cell_type": "markdown",
   "id": "4832e09b",
   "metadata": {},
   "source": [
    "Save encoder and model for later"
   ]
  },
  {
   "cell_type": "code",
   "execution_count": null,
   "id": "9b50335e",
   "metadata": {},
   "outputs": [],
   "source": [
    "# save the model to disk\n",
    "filename = 'fitted_model.sav'\n",
    "joblib.dump(model, filename)\n",
    "filename = 'fitted_encoder.sav'\n",
    "joblib.dump(enc, filename)"
   ]
  },
  {
   "cell_type": "markdown",
   "id": "eaeb1c39",
   "metadata": {},
   "source": [
    "Checking model on the test data set"
   ]
  }
 ],
 "metadata": {
  "kernelspec": {
   "display_name": "Python 3",
   "language": "python",
   "name": "python3"
  },
  "language_info": {
   "codemirror_mode": {
    "name": "ipython",
    "version": 3
   },
   "file_extension": ".py",
   "mimetype": "text/x-python",
   "name": "python",
   "nbconvert_exporter": "python",
   "pygments_lexer": "ipython3",
   "version": "3.8.8"
  }
 },
 "nbformat": 4,
 "nbformat_minor": 5
}
