{
 "cells": [
  {
   "cell_type": "markdown",
   "id": "d2054018",
   "metadata": {},
   "source": [
    "Packages"
   ]
  },
  {
   "cell_type": "code",
   "execution_count": 1,
   "id": "33369e28",
   "metadata": {},
   "outputs": [],
   "source": [
    "import pandas as pd\n",
    "import numpy as np\n",
    "from sklearn.ensemble import RandomForestRegressor\n",
    "from sklearn.model_selection import GridSearchCV\n",
    "from sklearn.model_selection import train_test_split\n",
    "from sklearn.preprocessing import LabelEncoder\n",
    "from xgboost import XGBRegressor\n",
    "import joblib\n",
    "import shap\n",
    "import matplotlib.pylab as pl"
   ]
  },
  {
   "cell_type": "markdown",
   "id": "4e75cda0",
   "metadata": {},
   "source": [
    "Reading the data"
   ]
  },
  {
   "cell_type": "code",
   "execution_count": 140,
   "id": "90808023",
   "metadata": {},
   "outputs": [],
   "source": [
    "train_data = pd.read_csv(\"./Data/cleaned_train.csv\")\n",
    "test_data = pd.read_csv(\"./Data/cleaned_test.csv\")\n",
    "target = pd.read_csv(\"./Data/cleaned_target.csv\")\n",
    "\n",
    "target.set_index(\"Id\", inplace = True)"
   ]
  },
  {
   "cell_type": "markdown",
   "id": "b146c15d",
   "metadata": {},
   "source": [
    "Label encoding the features"
   ]
  },
  {
   "cell_type": "code",
   "execution_count": 141,
   "id": "0bd6f334",
   "metadata": {},
   "outputs": [],
   "source": [
    "enc = LabelEncoder()\n",
    "train_result = {}\n",
    "test_result = {}\n",
    "for col in train_data.columns:\n",
    "    if (train_data[col].dtype == \"int\" or train_data[col].dtype == \"float\"):\n",
    "        train_result[col] = train_data[col]\n",
    "        test_result[col] = test_data[col]\n",
    "    else:\n",
    "        train_result[col] = pd.Series(enc.fit_transform(train_data[col]))\n",
    "        test_result[col] = pd.Series(enc.transform(test_data[col]))\n",
    "train_features = pd.DataFrame(train_result)\n",
    "test_features = pd.DataFrame(test_result)\n",
    "\n",
    "train_features.set_index(\"Id\", inplace = True)\n",
    "test_features.set_index(\"Id\", inplace = True)"
   ]
  },
  {
   "cell_type": "code",
   "execution_count": 142,
   "id": "8fc439d7",
   "metadata": {},
   "outputs": [
    {
     "data": {
      "text/plain": [
       "Index(['Id', 'LotArea', 'OverallQual', 'GarageCars', 'YearBuilt',\n",
       "       'TotRmsAbvGrd', 'OverallCond', 'MSSubClass', 'LotShape', 'LotConfig',\n",
       "       'Neighborhood', 'YrSold', 'KitchenQual', 'ExterQual', 'ExterCond',\n",
       "       'HeatingQC', 'Fence', 'BldgType', 'Functional', 'TotLivArea',\n",
       "       'FullBath', 'HalfBath', 'PorchSF', 'ProxPos', 'ProxRoad', 'ProxRail'],\n",
       "      dtype='object')"
      ]
     },
     "execution_count": 142,
     "metadata": {},
     "output_type": "execute_result"
    }
   ],
   "source": [
    "train_data.columns"
   ]
  },
  {
   "cell_type": "markdown",
   "id": "7495226f",
   "metadata": {},
   "source": [
    "Random Forest"
   ]
  },
  {
   "cell_type": "code",
   "execution_count": 149,
   "id": "7bcf51ed",
   "metadata": {},
   "outputs": [],
   "source": [
    "rf = RandomForestRegressor(n_jobs = -1, n_estimators = 140)\n",
    "rf_params = {'max_features': range(3,10), 'max_depth': range(1, 13), 'min_samples_leaf': [4, 7, 14, 70, 140]}\n",
    "gs_rf = GridSearchCV(rf, rf_params, cv = 10, return_train_score = True)"
   ]
  },
  {
   "cell_type": "code",
   "execution_count": 150,
   "id": "2f525ff6",
   "metadata": {},
   "outputs": [
    {
     "name": "stdout",
     "output_type": "stream",
     "text": [
      "CPU times: user 7min 50s, sys: 56.5 s, total: 8min 47s\n",
      "Wall time: 8min 10s\n"
     ]
    },
    {
     "data": {
      "text/plain": [
       "GridSearchCV(cv=10,\n",
       "             estimator=RandomForestRegressor(n_estimators=140, n_jobs=-1),\n",
       "             param_grid={'max_depth': range(1, 13),\n",
       "                         'max_features': range(3, 10),\n",
       "                         'min_samples_leaf': [4, 7, 14, 70, 140]},\n",
       "             return_train_score=True)"
      ]
     },
     "execution_count": 150,
     "metadata": {},
     "output_type": "execute_result"
    }
   ],
   "source": [
    "np.random.seed(0)\n",
    "%time gs_rf.fit(train_features, target['SalePrice'])"
   ]
  },
  {
   "cell_type": "code",
   "execution_count": 151,
   "id": "04e9b5ca",
   "metadata": {},
   "outputs": [
    {
     "data": {
      "text/plain": [
       "0.860439491673491"
      ]
     },
     "execution_count": 151,
     "metadata": {},
     "output_type": "execute_result"
    }
   ],
   "source": [
    "gs_rf.best_score_"
   ]
  },
  {
   "cell_type": "code",
   "execution_count": 152,
   "id": "8320c133",
   "metadata": {},
   "outputs": [
    {
     "data": {
      "text/plain": [
       "{'max_depth': 12, 'max_features': 7, 'min_samples_leaf': 4}"
      ]
     },
     "execution_count": 152,
     "metadata": {},
     "output_type": "execute_result"
    }
   ],
   "source": [
    "gs_rf.best_params_"
   ]
  },
  {
   "cell_type": "code",
   "execution_count": 154,
   "id": "ec4f1fdc",
   "metadata": {
    "scrolled": true
   },
   "outputs": [
    {
     "data": {
      "text/plain": [
       "TotLivArea      0.268406\n",
       "OverallQual     0.252931\n",
       "GarageCars      0.102012\n",
       "ExterQual       0.086475\n",
       "YearBuilt       0.062913\n",
       "KitchenQual     0.049624\n",
       "LotArea         0.047378\n",
       "FullBath        0.037322\n",
       "TotRmsAbvGrd    0.027351\n",
       "Neighborhood    0.014185\n",
       "HeatingQC       0.009755\n",
       "YrSold          0.008671\n",
       "MSSubClass      0.007547\n",
       "HalfBath        0.006500\n",
       "OverallCond     0.005429\n",
       "LotShape        0.003777\n",
       "BldgType        0.002768\n",
       "PorchSF         0.002223\n",
       "LotConfig       0.002173\n",
       "Fence           0.000784\n",
       "dtype: float64"
      ]
     },
     "execution_count": 154,
     "metadata": {},
     "output_type": "execute_result"
    }
   ],
   "source": [
    "importances = pd.Series(gs_rf.best_estimator_.feature_importances_, index=train_features.columns).sort_values(ascending=False)\n",
    "importances[:20]"
   ]
  },
  {
   "cell_type": "code",
   "execution_count": 97,
   "id": "dade5d88",
   "metadata": {},
   "outputs": [],
   "source": [
    "model_rf = gs_rf.best_estimator_"
   ]
  },
  {
   "cell_type": "markdown",
   "id": "0f6dd2a7",
   "metadata": {},
   "source": [
    "XGBoost with early stopping"
   ]
  },
  {
   "cell_type": "code",
   "execution_count": null,
   "id": "9f849097",
   "metadata": {},
   "outputs": [],
   "source": [
    "train_features_grid, train_features_validation, target_grid, target_validation = train_test_split(train_features, target, test_size = 0.2)"
   ]
  },
  {
   "cell_type": "code",
   "execution_count": null,
   "id": "2491cf34",
   "metadata": {},
   "outputs": [],
   "source": [
    "xgb = XGBRegressor(n_jobs = -1, n_estimators = 1000)\n",
    "xgb_params = {'max_depth': range(1, 6), 'eta': np.linspace(0.0001, 0.5, num = 50, endpoint = True)}\n",
    "gs_xgb = GridSearchCV(xgb, xgb_params, cv = 10, return_train_score = True)"
   ]
  },
  {
   "cell_type": "code",
   "execution_count": null,
   "id": "19a64e3c",
   "metadata": {},
   "outputs": [],
   "source": [
    "np.random.seed(0)\n",
    "fit_params={\"early_stopping_rounds\":10, \n",
    "            \"eval_metric\" : \"mae\", \n",
    "            \"eval_set\" : [[train_features_validation, target_validation]]}\n",
    "%time gs_xgb.fit(train_features_grid, target_grid,verbose = 0, **fit_params)"
   ]
  },
  {
   "cell_type": "markdown",
   "id": "2ca6422b",
   "metadata": {},
   "source": [
    "XGBoost without early stopping"
   ]
  },
  {
   "cell_type": "code",
   "execution_count": 155,
   "id": "f4a3c480",
   "metadata": {},
   "outputs": [],
   "source": [
    "xgb = XGBRegressor(n_jobs = -1, booster = \"gbtree\")\n",
    "eta = np.linspace(0.0001, 0.5, num = 50, endpoint = True)\n",
    "n_estimators = [25 * i for i in range(1,13)]\n",
    "xgb_params = {'max_depth': range(2, 6), 'eta': eta, 'n_estimators' : n_estimators}\n",
    "gs_xgb = GridSearchCV(xgb, xgb_params, cv = 10, return_train_score = True)"
   ]
  },
  {
   "cell_type": "code",
   "execution_count": 156,
   "id": "c37f22ef",
   "metadata": {},
   "outputs": [
    {
     "name": "stdout",
     "output_type": "stream",
     "text": [
      "CPU times: user 7h 13min 51s, sys: 36min 20s, total: 7h 50min 11s\n",
      "Wall time: 1h 1min 37s\n"
     ]
    },
    {
     "data": {
      "text/plain": [
       "GridSearchCV(cv=10,\n",
       "             estimator=XGBRegressor(base_score=None, booster='gbtree',\n",
       "                                    colsample_bylevel=None,\n",
       "                                    colsample_bynode=None,\n",
       "                                    colsample_bytree=None, gamma=None,\n",
       "                                    gpu_id=None, importance_type='gain',\n",
       "                                    interaction_constraints=None,\n",
       "                                    learning_rate=None, max_delta_step=None,\n",
       "                                    max_depth=None, min_child_weight=None,\n",
       "                                    missing=nan, monotone_constraints=None,\n",
       "                                    n_estimators=100, n_...\n",
       "       3.26565306e-01, 3.36767347e-01, 3.46969388e-01, 3.57171429e-01,\n",
       "       3.67373469e-01, 3.77575510e-01, 3.87777551e-01, 3.97979592e-01,\n",
       "       4.08181633e-01, 4.18383673e-01, 4.28585714e-01, 4.38787755e-01,\n",
       "       4.48989796e-01, 4.59191837e-01, 4.69393878e-01, 4.79595918e-01,\n",
       "       4.89797959e-01, 5.00000000e-01]),\n",
       "                         'max_depth': range(2, 6),\n",
       "                         'n_estimators': [25, 50, 75, 100, 125, 150, 175, 200,\n",
       "                                          225, 250, 275, 300]},\n",
       "             return_train_score=True)"
      ]
     },
     "execution_count": 156,
     "metadata": {},
     "output_type": "execute_result"
    }
   ],
   "source": [
    "np.random.seed(0)\n",
    "%time gs_xgb.fit(train_features, target, verbose = 0)"
   ]
  },
  {
   "cell_type": "markdown",
   "id": "d95fbb25",
   "metadata": {},
   "source": [
    "XGBoost outcomes"
   ]
  },
  {
   "cell_type": "code",
   "execution_count": 157,
   "id": "12a6e5fe",
   "metadata": {},
   "outputs": [
    {
     "data": {
      "text/plain": [
       "0.8797505460780949"
      ]
     },
     "execution_count": 157,
     "metadata": {},
     "output_type": "execute_result"
    }
   ],
   "source": [
    "gs_xgb.best_score_"
   ]
  },
  {
   "cell_type": "code",
   "execution_count": 158,
   "id": "35f2506a",
   "metadata": {
    "scrolled": false
   },
   "outputs": [
    {
     "data": {
      "text/plain": [
       "{'eta': 0.21434285714285714, 'max_depth': 2, 'n_estimators': 275}"
      ]
     },
     "execution_count": 158,
     "metadata": {},
     "output_type": "execute_result"
    }
   ],
   "source": [
    "gs_xgb.best_params_"
   ]
  },
  {
   "cell_type": "code",
   "execution_count": 159,
   "id": "34455664",
   "metadata": {
    "scrolled": true
   },
   "outputs": [
    {
     "data": {
      "text/plain": [
       "OverallQual     0.397834\n",
       "KitchenQual     0.232355\n",
       "GarageCars      0.090197\n",
       "TotLivArea      0.079999\n",
       "ExterQual       0.053834\n",
       "YearBuilt       0.020539\n",
       "LotArea         0.019549\n",
       "HalfBath        0.015559\n",
       "FullBath        0.014242\n",
       "TotRmsAbvGrd    0.012263\n",
       "OverallCond     0.011740\n",
       "MSSubClass      0.011253\n",
       "Neighborhood    0.008240\n",
       "PorchSF         0.005668\n",
       "LotShape        0.004193\n",
       "ProxRoad        0.003923\n",
       "ProxPos         0.003718\n",
       "YrSold          0.003340\n",
       "Functional      0.002856\n",
       "LotConfig       0.002622\n",
       "dtype: float32"
      ]
     },
     "execution_count": 159,
     "metadata": {},
     "output_type": "execute_result"
    }
   ],
   "source": [
    "importances = pd.Series(gs_xgb.best_estimator_.feature_importances_, index=train_features.columns).sort_values(ascending=False)\n",
    "importances[:20]"
   ]
  },
  {
   "cell_type": "code",
   "execution_count": 160,
   "id": "c231cc18",
   "metadata": {},
   "outputs": [],
   "source": [
    "model_xgb = gs_xgb.best_estimator_"
   ]
  },
  {
   "cell_type": "markdown",
   "id": "6837a759",
   "metadata": {},
   "source": [
    "Running the model on the test dataset"
   ]
  },
  {
   "cell_type": "code",
   "execution_count": 161,
   "id": "3c5ea9da",
   "metadata": {},
   "outputs": [],
   "source": [
    "pred_xgb = pd.Series(model_xgb.predict(test_features))\n",
    "prediction_xgb = pd.DataFrame({\"Id\" : test_data[\"Id\"], \"SalePrice\" : pred_xgb})\n",
    "prediction_xgb.set_index(\"Id\", inplace = True)"
   ]
  },
  {
   "cell_type": "code",
   "execution_count": 162,
   "id": "c3b0da11",
   "metadata": {},
   "outputs": [],
   "source": [
    "prediction_xgb.to_csv(\"./Data/prediction_xgb.csv\")"
   ]
  },
  {
   "cell_type": "code",
   "execution_count": 104,
   "id": "4ff19f97",
   "metadata": {},
   "outputs": [],
   "source": [
    "pred_rf = pd.Series(model_rf.predict(test_features))\n",
    "prediction_rf = pd.DataFrame({\"Id\" : test_data[\"Id\"], \"SalePrice\" : pred_rf})\n",
    "prediction_rf.set_index(\"Id\", inplace = True)"
   ]
  },
  {
   "cell_type": "code",
   "execution_count": 105,
   "id": "888500d3",
   "metadata": {},
   "outputs": [],
   "source": [
    "prediction_rf.to_csv(\"./Data/prediction_rf.csv\")"
   ]
  },
  {
   "cell_type": "code",
   "execution_count": 107,
   "id": "1b610502",
   "metadata": {},
   "outputs": [],
   "source": [
    "pred_av = (pred_xgb + pred_rf) / 2\n",
    "prediction_av = pd.DataFrame({\"Id\" : test_data[\"Id\"], \"SalePrice\" : pred_av})\n",
    "prediction_av.set_index(\"Id\", inplace = True)"
   ]
  },
  {
   "cell_type": "code",
   "execution_count": 108,
   "id": "34f16af1",
   "metadata": {},
   "outputs": [],
   "source": [
    "prediction_av.to_csv(\"./Data/prediction_av.csv\")"
   ]
  },
  {
   "cell_type": "markdown",
   "id": "79094916",
   "metadata": {},
   "source": [
    "Save encoder and model for later"
   ]
  },
  {
   "cell_type": "code",
   "execution_count": null,
   "id": "22977b27",
   "metadata": {},
   "outputs": [],
   "source": [
    "# save the model to disk\n",
    "filename = 'fitted_model.sav'\n",
    "joblib.dump(model, filename)\n",
    "filename = 'fitted_encoder.sav'\n",
    "joblib.dump(enc, filename)"
   ]
  },
  {
   "cell_type": "markdown",
   "id": "57ed42bd",
   "metadata": {},
   "source": [
    "Checking model on the test data set"
   ]
  }
 ],
 "metadata": {
  "kernelspec": {
   "display_name": "Python 3",
   "language": "python",
   "name": "python3"
  },
  "language_info": {
   "codemirror_mode": {
    "name": "ipython",
    "version": 3
   },
   "file_extension": ".py",
   "mimetype": "text/x-python",
   "name": "python",
   "nbconvert_exporter": "python",
   "pygments_lexer": "ipython3",
   "version": "3.8.8"
  }
 },
 "nbformat": 4,
 "nbformat_minor": 5
}
