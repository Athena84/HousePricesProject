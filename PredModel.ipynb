{
 "cells": [
  {
   "cell_type": "markdown",
   "id": "d2054018",
   "metadata": {},
   "source": [
    "Packages"
   ]
  },
  {
   "cell_type": "code",
   "execution_count": 1,
   "id": "33369e28",
   "metadata": {},
   "outputs": [],
   "source": [
    "import pandas as pd\n",
    "import numpy as np\n",
    "from sklearn.ensemble import RandomForestRegressor\n",
    "from sklearn.model_selection import GridSearchCV\n",
    "from sklearn.model_selection import train_test_split\n",
    "from sklearn.preprocessing import LabelEncoder\n",
    "from xgboost import XGBRegressor\n",
    "import joblib\n",
    "#import shap\n",
    "import matplotlib.pylab as pl"
   ]
  },
  {
   "cell_type": "markdown",
   "id": "4e75cda0",
   "metadata": {},
   "source": [
    "Reading the data"
   ]
  },
  {
   "cell_type": "code",
   "execution_count": 2,
   "id": "90808023",
   "metadata": {},
   "outputs": [],
   "source": [
    "train_data = pd.read_csv(\"./Data/cleaned_train.csv\")\n",
    "test_data = pd.read_csv(\"./Data/cleaned_test.csv\")\n",
    "target = pd.read_csv(\"./Data/cleaned_target.csv\")\n",
    "\n",
    "target.set_index(\"Id\", inplace = True)"
   ]
  },
  {
   "cell_type": "markdown",
   "id": "b146c15d",
   "metadata": {},
   "source": [
    "Label encoding the features"
   ]
  },
  {
   "cell_type": "code",
   "execution_count": 3,
   "id": "0bd6f334",
   "metadata": {},
   "outputs": [],
   "source": [
    "enc = LabelEncoder()\n",
    "train_result = {}\n",
    "test_result = {}\n",
    "for col in train_data.columns:\n",
    "    if (train_data[col].dtype == \"int\" or train_data[col].dtype == \"float\"):\n",
    "        train_result[col] = train_data[col]\n",
    "        test_result[col] = test_data[col]\n",
    "    else:\n",
    "        train_result[col] = pd.Series(enc.fit_transform(train_data[col]))\n",
    "        test_result[col] = pd.Series(enc.transform(test_data[col]))\n",
    "train_features = pd.DataFrame(train_result)\n",
    "test_features = pd.DataFrame(test_result)\n",
    "\n",
    "train_features.set_index(\"Id\", inplace = True)\n",
    "test_features.set_index(\"Id\", inplace = True)"
   ]
  },
  {
   "cell_type": "code",
   "execution_count": 4,
   "id": "8fc439d7",
   "metadata": {},
   "outputs": [
    {
     "data": {
      "text/plain": [
       "Index(['Id', 'LotArea', 'OverallQual', 'GarageCars', 'TotRmsAbvGrd',\n",
       "       'OverallCond', 'GrLivArea', 'TotalBsmtSF', 'Fireplaces', 'CentralAir',\n",
       "       'Street', 'YrSold', 'KitchenQual', 'ExterQual', 'ExterCond',\n",
       "       'HeatingQC', 'GarageQual', 'PoolQC', 'BsmtCond', 'Fence',\n",
       "       'BsmtExposure', 'BldgType', 'Functional', 'ProxPos', 'ProxRoad',\n",
       "       'ProxRail', 'Heating', 'BasementQualFactor', 'FullBath', 'HalfBath',\n",
       "       'PorchSF', 'Neighborhood', 'MSSubClass', 'SaleCondition'],\n",
       "      dtype='object')"
      ]
     },
     "execution_count": 4,
     "metadata": {},
     "output_type": "execute_result"
    }
   ],
   "source": [
    "train_data.columns"
   ]
  },
  {
   "cell_type": "markdown",
   "id": "7495226f",
   "metadata": {},
   "source": [
    "Random Forest"
   ]
  },
  {
   "cell_type": "code",
   "execution_count": null,
   "id": "7bcf51ed",
   "metadata": {},
   "outputs": [],
   "source": [
    "rf = RandomForestRegressor(n_jobs = -1, n_estimators = 140)\n",
    "rf_params = {'max_features': range(3,10), 'max_depth': range(1, 13), 'min_samples_leaf': [4, 7, 14, 70, 140]}\n",
    "gs_rf = GridSearchCV(rf, rf_params, cv = 10, return_train_score = True)"
   ]
  },
  {
   "cell_type": "code",
   "execution_count": null,
   "id": "2f525ff6",
   "metadata": {},
   "outputs": [],
   "source": [
    "np.random.seed(0)\n",
    "%time gs_rf.fit(train_features, target['SalePrice'])"
   ]
  },
  {
   "cell_type": "code",
   "execution_count": null,
   "id": "04e9b5ca",
   "metadata": {},
   "outputs": [],
   "source": [
    "gs_rf.best_score_"
   ]
  },
  {
   "cell_type": "code",
   "execution_count": null,
   "id": "8320c133",
   "metadata": {},
   "outputs": [],
   "source": [
    "gs_rf.best_params_"
   ]
  },
  {
   "cell_type": "code",
   "execution_count": null,
   "id": "ec4f1fdc",
   "metadata": {
    "scrolled": true
   },
   "outputs": [],
   "source": [
    "importances = pd.Series(gs_rf.best_estimator_.feature_importances_, index=train_features.columns).sort_values(ascending=False)\n",
    "importances[:20]"
   ]
  },
  {
   "cell_type": "code",
   "execution_count": null,
   "id": "dade5d88",
   "metadata": {},
   "outputs": [],
   "source": [
    "model_rf = gs_rf.best_estimator_"
   ]
  },
  {
   "cell_type": "markdown",
   "id": "0f6dd2a7",
   "metadata": {},
   "source": [
    "XGBoost with early stopping"
   ]
  },
  {
   "cell_type": "code",
   "execution_count": null,
   "id": "9f849097",
   "metadata": {},
   "outputs": [],
   "source": [
    "train_features_grid, train_features_validation, target_grid, target_validation = train_test_split(train_features, target, test_size = 0.2)"
   ]
  },
  {
   "cell_type": "code",
   "execution_count": null,
   "id": "2491cf34",
   "metadata": {},
   "outputs": [],
   "source": [
    "xgb = XGBRegressor(n_jobs = -1, n_estimators = 1000)\n",
    "xgb_params = {'max_depth': range(1, 6), 'eta': np.linspace(0.0001, 0.5, num = 50, endpoint = True)}\n",
    "gs_xgb = GridSearchCV(xgb, xgb_params, cv = 10, return_train_score = True)"
   ]
  },
  {
   "cell_type": "code",
   "execution_count": null,
   "id": "19a64e3c",
   "metadata": {},
   "outputs": [],
   "source": [
    "np.random.seed(0)\n",
    "fit_params={\"early_stopping_rounds\":10, \n",
    "            \"eval_metric\" : \"mae\", \n",
    "            \"eval_set\" : [[train_features_validation, target_validation]]}\n",
    "%time gs_xgb.fit(train_features_grid, target_grid,verbose = 0, **fit_params)"
   ]
  },
  {
   "cell_type": "markdown",
   "id": "2ca6422b",
   "metadata": {},
   "source": [
    "XGBoost without early stopping"
   ]
  },
  {
   "cell_type": "code",
   "execution_count": 5,
   "id": "f4a3c480",
   "metadata": {},
   "outputs": [],
   "source": [
    "xgb = XGBRegressor(n_jobs = -1, booster = \"gbtree\")\n",
    "eta = np.linspace(0.0001, 0.5, num = 10, endpoint = True)\n",
    "n_estimators = [25 * i for i in range(1,11)]\n",
    "xgb_params = {'max_depth': range(2, 6), 'eta': eta, 'n_estimators' : n_estimators}\n",
    "gs_xgb = GridSearchCV(xgb, xgb_params, cv = 10, return_train_score = True)"
   ]
  },
  {
   "cell_type": "code",
   "execution_count": null,
   "id": "c37f22ef",
   "metadata": {},
   "outputs": [],
   "source": [
    "np.random.seed(0)\n",
    "%time gs_xgb.fit(train_features, target, verbose = 0)"
   ]
  },
  {
   "cell_type": "markdown",
   "id": "d95fbb25",
   "metadata": {},
   "source": [
    "XGBoost outcomes"
   ]
  },
  {
   "cell_type": "code",
   "execution_count": null,
   "id": "12a6e5fe",
   "metadata": {},
   "outputs": [],
   "source": [
    "gs_xgb.best_score_"
   ]
  },
  {
   "cell_type": "code",
   "execution_count": null,
   "id": "35f2506a",
   "metadata": {
    "scrolled": false
   },
   "outputs": [],
   "source": [
    "gs_xgb.best_params_"
   ]
  },
  {
   "cell_type": "code",
   "execution_count": null,
   "id": "34455664",
   "metadata": {
    "scrolled": true
   },
   "outputs": [],
   "source": [
    "importances = pd.Series(gs_xgb.best_estimator_.feature_importances_, index=train_features.columns).sort_values(ascending=False)\n",
    "importances[:20]"
   ]
  },
  {
   "cell_type": "code",
   "execution_count": null,
   "id": "c231cc18",
   "metadata": {},
   "outputs": [],
   "source": [
    "model_xgb = gs_xgb.best_estimator_"
   ]
  },
  {
   "cell_type": "markdown",
   "id": "6837a759",
   "metadata": {},
   "source": [
    "Running the model on the test dataset"
   ]
  },
  {
   "cell_type": "code",
   "execution_count": null,
   "id": "3c5ea9da",
   "metadata": {},
   "outputs": [],
   "source": [
    "pred_xgb = pd.Series(model_xgb.predict(test_features))\n",
    "prediction_xgb = pd.DataFrame({\"Id\" : test_data[\"Id\"], \"SalePrice\" : pred_xgb})\n",
    "prediction_xgb.set_index(\"Id\", inplace = True)"
   ]
  },
  {
   "cell_type": "code",
   "execution_count": null,
   "id": "c3b0da11",
   "metadata": {},
   "outputs": [],
   "source": [
    "prediction_xgb.to_csv(\"./Data/prediction_xgb.csv\")"
   ]
  },
  {
   "cell_type": "code",
   "execution_count": null,
   "id": "4ff19f97",
   "metadata": {},
   "outputs": [],
   "source": [
    "pred_rf = pd.Series(model_rf.predict(test_features))\n",
    "prediction_rf = pd.DataFrame({\"Id\" : test_data[\"Id\"], \"SalePrice\" : pred_rf})\n",
    "prediction_rf.set_index(\"Id\", inplace = True)"
   ]
  },
  {
   "cell_type": "code",
   "execution_count": null,
   "id": "888500d3",
   "metadata": {},
   "outputs": [],
   "source": [
    "prediction_rf.to_csv(\"./Data/prediction_rf.csv\")"
   ]
  },
  {
   "cell_type": "code",
   "execution_count": null,
   "id": "1b610502",
   "metadata": {},
   "outputs": [],
   "source": [
    "pred_av = (pred_xgb + pred_rf) / 2\n",
    "prediction_av = pd.DataFrame({\"Id\" : test_data[\"Id\"], \"SalePrice\" : pred_av})\n",
    "prediction_av.set_index(\"Id\", inplace = True)"
   ]
  },
  {
   "cell_type": "code",
   "execution_count": null,
   "id": "34f16af1",
   "metadata": {},
   "outputs": [],
   "source": [
    "prediction_av.to_csv(\"./Data/prediction_av.csv\")"
   ]
  },
  {
   "cell_type": "markdown",
   "id": "79094916",
   "metadata": {},
   "source": [
    "Save encoder and model for later"
   ]
  },
  {
   "cell_type": "code",
   "execution_count": null,
   "id": "22977b27",
   "metadata": {},
   "outputs": [],
   "source": [
    "# save the model to disk\n",
    "filename = 'fitted_model.sav'\n",
    "joblib.dump(model, filename)\n",
    "filename = 'fitted_encoder.sav'\n",
    "joblib.dump(enc, filename)"
   ]
  },
  {
   "cell_type": "markdown",
   "id": "57ed42bd",
   "metadata": {},
   "source": [
    "Checking model on the test data set"
   ]
  }
 ],
 "metadata": {
  "kernelspec": {
   "display_name": "Python 3",
   "language": "python",
   "name": "python3"
  },
  "language_info": {
   "codemirror_mode": {
    "name": "ipython",
    "version": 3
   },
   "file_extension": ".py",
   "mimetype": "text/x-python",
   "name": "python",
   "nbconvert_exporter": "python",
   "pygments_lexer": "ipython3",
   "version": "3.8.8"
  }
 },
 "nbformat": 4,
 "nbformat_minor": 5
}
